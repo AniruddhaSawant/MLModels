{
 "cells": [
  {
   "cell_type": "code",
   "execution_count": 4,
   "id": "bf4659f6",
   "metadata": {},
   "outputs": [],
   "source": [
    "import numpy as np\n",
    "import pandas as pd\n",
    "import seaborn as sns\n",
    "import matplotlib.pyplot as plt\n",
    "import pickle\n",
    "from sklearn.preprocessing import StandardScaler, MinMaxScaler\n",
    "from sklearn.model_selection import train_test_split, GridSearchCV\n",
    "from sklearn.metrics import mean_squared_error, mean_absolute_error, r2_score, accuracy_score, roc_curve, roc_auc_score\n",
    "from sklearn.linear_model import Ridge, Lasso, RidgeCV, LassoCV\n",
    "from sklearn.preprocessing import OrdinalEncoder\n",
    "enc = OrdinalEncoder()\n",
    "from sklearn import metrics\n",
    "\n",
    "from sklearn.linear_model import LinearRegression\n",
    "from sklearn.tree import DecisionTreeRegressor\n",
    "from sklearn.ensemble import AdaBoostRegressor\n",
    "from sklearn.ensemble import GradientBoostingRegressor\n",
    "from sklearn.ensemble import RandomForestRegressor\n",
    "\n",
    "from sklearn.model_selection import RandomizedSearchCV\n",
    "\n",
    "import warnings \n",
    "warnings.filterwarnings('ignore')"
   ]
  },
  {
   "cell_type": "code",
   "execution_count": 5,
   "id": "5619face",
   "metadata": {},
   "outputs": [
    {
     "data": {
      "text/html": [
       "<div>\n",
       "<style scoped>\n",
       "    .dataframe tbody tr th:only-of-type {\n",
       "        vertical-align: middle;\n",
       "    }\n",
       "\n",
       "    .dataframe tbody tr th {\n",
       "        vertical-align: top;\n",
       "    }\n",
       "\n",
       "    .dataframe thead th {\n",
       "        text-align: right;\n",
       "    }\n",
       "</style>\n",
       "<table border=\"1\" class=\"dataframe\">\n",
       "  <thead>\n",
       "    <tr style=\"text-align: right;\">\n",
       "      <th></th>\n",
       "      <th>Unnamed: 0</th>\n",
       "      <th>TV</th>\n",
       "      <th>radio</th>\n",
       "      <th>newspaper</th>\n",
       "      <th>sales</th>\n",
       "    </tr>\n",
       "  </thead>\n",
       "  <tbody>\n",
       "    <tr>\n",
       "      <th>0</th>\n",
       "      <td>1</td>\n",
       "      <td>230.1</td>\n",
       "      <td>37.8</td>\n",
       "      <td>69.2</td>\n",
       "      <td>22.1</td>\n",
       "    </tr>\n",
       "    <tr>\n",
       "      <th>1</th>\n",
       "      <td>2</td>\n",
       "      <td>44.5</td>\n",
       "      <td>39.3</td>\n",
       "      <td>45.1</td>\n",
       "      <td>10.4</td>\n",
       "    </tr>\n",
       "    <tr>\n",
       "      <th>2</th>\n",
       "      <td>3</td>\n",
       "      <td>17.2</td>\n",
       "      <td>45.9</td>\n",
       "      <td>69.3</td>\n",
       "      <td>9.3</td>\n",
       "    </tr>\n",
       "    <tr>\n",
       "      <th>3</th>\n",
       "      <td>4</td>\n",
       "      <td>151.5</td>\n",
       "      <td>41.3</td>\n",
       "      <td>58.5</td>\n",
       "      <td>18.5</td>\n",
       "    </tr>\n",
       "    <tr>\n",
       "      <th>4</th>\n",
       "      <td>5</td>\n",
       "      <td>180.8</td>\n",
       "      <td>10.8</td>\n",
       "      <td>58.4</td>\n",
       "      <td>12.9</td>\n",
       "    </tr>\n",
       "    <tr>\n",
       "      <th>...</th>\n",
       "      <td>...</td>\n",
       "      <td>...</td>\n",
       "      <td>...</td>\n",
       "      <td>...</td>\n",
       "      <td>...</td>\n",
       "    </tr>\n",
       "    <tr>\n",
       "      <th>195</th>\n",
       "      <td>196</td>\n",
       "      <td>38.2</td>\n",
       "      <td>3.7</td>\n",
       "      <td>13.8</td>\n",
       "      <td>7.6</td>\n",
       "    </tr>\n",
       "    <tr>\n",
       "      <th>196</th>\n",
       "      <td>197</td>\n",
       "      <td>94.2</td>\n",
       "      <td>4.9</td>\n",
       "      <td>8.1</td>\n",
       "      <td>9.7</td>\n",
       "    </tr>\n",
       "    <tr>\n",
       "      <th>197</th>\n",
       "      <td>198</td>\n",
       "      <td>177.0</td>\n",
       "      <td>9.3</td>\n",
       "      <td>6.4</td>\n",
       "      <td>12.8</td>\n",
       "    </tr>\n",
       "    <tr>\n",
       "      <th>198</th>\n",
       "      <td>199</td>\n",
       "      <td>283.6</td>\n",
       "      <td>42.0</td>\n",
       "      <td>66.2</td>\n",
       "      <td>25.5</td>\n",
       "    </tr>\n",
       "    <tr>\n",
       "      <th>199</th>\n",
       "      <td>200</td>\n",
       "      <td>232.1</td>\n",
       "      <td>8.6</td>\n",
       "      <td>8.7</td>\n",
       "      <td>13.4</td>\n",
       "    </tr>\n",
       "  </tbody>\n",
       "</table>\n",
       "<p>200 rows × 5 columns</p>\n",
       "</div>"
      ],
      "text/plain": [
       "     Unnamed: 0     TV  radio  newspaper  sales\n",
       "0             1  230.1   37.8       69.2   22.1\n",
       "1             2   44.5   39.3       45.1   10.4\n",
       "2             3   17.2   45.9       69.3    9.3\n",
       "3             4  151.5   41.3       58.5   18.5\n",
       "4             5  180.8   10.8       58.4   12.9\n",
       "..          ...    ...    ...        ...    ...\n",
       "195         196   38.2    3.7       13.8    7.6\n",
       "196         197   94.2    4.9        8.1    9.7\n",
       "197         198  177.0    9.3        6.4   12.8\n",
       "198         199  283.6   42.0       66.2   25.5\n",
       "199         200  232.1    8.6        8.7   13.4\n",
       "\n",
       "[200 rows x 5 columns]"
      ]
     },
     "execution_count": 5,
     "metadata": {},
     "output_type": "execute_result"
    }
   ],
   "source": [
    "df = pd.read_csv('https://raw.githubusercontent.com/dsrscientist/DSData/master/Advertising.csv')\n",
    "df"
   ]
  },
  {
   "cell_type": "code",
   "execution_count": 6,
   "id": "c36231ae",
   "metadata": {},
   "outputs": [
    {
     "name": "stdout",
     "output_type": "stream",
     "text": [
      "<class 'pandas.core.frame.DataFrame'>\n",
      "RangeIndex: 200 entries, 0 to 199\n",
      "Data columns (total 5 columns):\n",
      " #   Column      Non-Null Count  Dtype  \n",
      "---  ------      --------------  -----  \n",
      " 0   Unnamed: 0  200 non-null    int64  \n",
      " 1   TV          200 non-null    float64\n",
      " 2   radio       200 non-null    float64\n",
      " 3   newspaper   200 non-null    float64\n",
      " 4   sales       200 non-null    float64\n",
      "dtypes: float64(4), int64(1)\n",
      "memory usage: 7.9 KB\n"
     ]
    }
   ],
   "source": [
    "df.info()"
   ]
  },
  {
   "cell_type": "code",
   "execution_count": 7,
   "id": "e9427454",
   "metadata": {},
   "outputs": [
    {
     "data": {
      "text/plain": [
       "Unnamed: 0    0\n",
       "TV            0\n",
       "radio         0\n",
       "newspaper     0\n",
       "sales         0\n",
       "dtype: int64"
      ]
     },
     "execution_count": 7,
     "metadata": {},
     "output_type": "execute_result"
    }
   ],
   "source": [
    "df.isnull().sum()"
   ]
  },
  {
   "cell_type": "code",
   "execution_count": 8,
   "id": "6169bc72",
   "metadata": {},
   "outputs": [],
   "source": [
    "df = df.drop('Unnamed: 0',axis=1)"
   ]
  },
  {
   "cell_type": "code",
   "execution_count": 9,
   "id": "3619dca6",
   "metadata": {},
   "outputs": [
    {
     "data": {
      "text/html": [
       "<div>\n",
       "<style scoped>\n",
       "    .dataframe tbody tr th:only-of-type {\n",
       "        vertical-align: middle;\n",
       "    }\n",
       "\n",
       "    .dataframe tbody tr th {\n",
       "        vertical-align: top;\n",
       "    }\n",
       "\n",
       "    .dataframe thead th {\n",
       "        text-align: right;\n",
       "    }\n",
       "</style>\n",
       "<table border=\"1\" class=\"dataframe\">\n",
       "  <thead>\n",
       "    <tr style=\"text-align: right;\">\n",
       "      <th></th>\n",
       "      <th>TV</th>\n",
       "      <th>radio</th>\n",
       "      <th>newspaper</th>\n",
       "      <th>sales</th>\n",
       "    </tr>\n",
       "  </thead>\n",
       "  <tbody>\n",
       "    <tr>\n",
       "      <th>count</th>\n",
       "      <td>200.000000</td>\n",
       "      <td>200.000000</td>\n",
       "      <td>200.000000</td>\n",
       "      <td>200.000000</td>\n",
       "    </tr>\n",
       "    <tr>\n",
       "      <th>mean</th>\n",
       "      <td>147.042500</td>\n",
       "      <td>23.264000</td>\n",
       "      <td>30.554000</td>\n",
       "      <td>14.022500</td>\n",
       "    </tr>\n",
       "    <tr>\n",
       "      <th>std</th>\n",
       "      <td>85.854236</td>\n",
       "      <td>14.846809</td>\n",
       "      <td>21.778621</td>\n",
       "      <td>5.217457</td>\n",
       "    </tr>\n",
       "    <tr>\n",
       "      <th>min</th>\n",
       "      <td>0.700000</td>\n",
       "      <td>0.000000</td>\n",
       "      <td>0.300000</td>\n",
       "      <td>1.600000</td>\n",
       "    </tr>\n",
       "    <tr>\n",
       "      <th>25%</th>\n",
       "      <td>74.375000</td>\n",
       "      <td>9.975000</td>\n",
       "      <td>12.750000</td>\n",
       "      <td>10.375000</td>\n",
       "    </tr>\n",
       "    <tr>\n",
       "      <th>50%</th>\n",
       "      <td>149.750000</td>\n",
       "      <td>22.900000</td>\n",
       "      <td>25.750000</td>\n",
       "      <td>12.900000</td>\n",
       "    </tr>\n",
       "    <tr>\n",
       "      <th>75%</th>\n",
       "      <td>218.825000</td>\n",
       "      <td>36.525000</td>\n",
       "      <td>45.100000</td>\n",
       "      <td>17.400000</td>\n",
       "    </tr>\n",
       "    <tr>\n",
       "      <th>max</th>\n",
       "      <td>296.400000</td>\n",
       "      <td>49.600000</td>\n",
       "      <td>114.000000</td>\n",
       "      <td>27.000000</td>\n",
       "    </tr>\n",
       "  </tbody>\n",
       "</table>\n",
       "</div>"
      ],
      "text/plain": [
       "               TV       radio   newspaper       sales\n",
       "count  200.000000  200.000000  200.000000  200.000000\n",
       "mean   147.042500   23.264000   30.554000   14.022500\n",
       "std     85.854236   14.846809   21.778621    5.217457\n",
       "min      0.700000    0.000000    0.300000    1.600000\n",
       "25%     74.375000    9.975000   12.750000   10.375000\n",
       "50%    149.750000   22.900000   25.750000   12.900000\n",
       "75%    218.825000   36.525000   45.100000   17.400000\n",
       "max    296.400000   49.600000  114.000000   27.000000"
      ]
     },
     "execution_count": 9,
     "metadata": {},
     "output_type": "execute_result"
    }
   ],
   "source": [
    "df.describe()"
   ]
  },
  {
   "cell_type": "code",
   "execution_count": 10,
   "id": "66456f54",
   "metadata": {},
   "outputs": [],
   "source": [
    "x = df.drop('sales',axis=1)\n",
    "y = df['sales']"
   ]
  },
  {
   "cell_type": "code",
   "execution_count": 11,
   "id": "4f1e06f5",
   "metadata": {},
   "outputs": [
    {
     "data": {
      "image/png": "[encoded data removed]",
      "text/plain": [
       "<Figure size 1800x1080 with 3 Axes>"
      ]
     },
     "metadata": {},
     "output_type": "display_data"
    }
   ],
   "source": [
    "plt.figure(figsize=(25,15), facecolor='white')\n",
    "\n",
    "plotno = 1\n",
    "\n",
    "for column in x:\n",
    "    if plotno <= 4:\n",
    "        ax = plt.subplot(2,4,plotno)\n",
    "        plt.scatter(x[column],y)\n",
    "        plt.xlabel(column,fontsize=20)\n",
    "        \n",
    "    plotno+=1\n",
    "plt.tight_layout()"
   ]
  },
  {
   "cell_type": "code",
   "execution_count": 12,
   "id": "085d0661",
   "metadata": {},
   "outputs": [
    {
     "data": {
      "image/png": "[encoded data removed]",
      "text/plain": [
       "<Figure size 1800x1080 with 4 Axes>"
      ]
     },
     "metadata": {},
     "output_type": "display_data"
    }
   ],
   "source": [
    "plt.figure(figsize=(25,15), facecolor='white')\n",
    "\n",
    "plotno = 1\n",
    "\n",
    "for column in df:\n",
    "    if plotno <= 4:\n",
    "        ax = plt.subplot(2,4,plotno)\n",
    "        sns.distplot(df[column])\n",
    "        plt.xlabel(column,fontsize=20)\n",
    "        \n",
    "    plotno+=1\n",
    "plt.tight_layout()"
   ]
  },
  {
   "cell_type": "code",
   "execution_count": 13,
   "id": "c16a18e8",
   "metadata": {},
   "outputs": [
    {
     "data": {
      "text/plain": [
       "Index(['TV', 'radio', 'newspaper', 'sales'], dtype='object')"
      ]
     },
     "execution_count": 13,
     "metadata": {},
     "output_type": "execute_result"
    }
   ],
   "source": [
    "df.columns"
   ]
  },
  {
   "cell_type": "code",
   "execution_count": 14,
   "id": "458e04ff",
   "metadata": {},
   "outputs": [
    {
     "data": {
      "text/plain": [
       "TV           0.782224\n",
       "radio        0.576223\n",
       "newspaper    0.228299\n",
       "dtype: float64"
      ]
     },
     "execution_count": 14,
     "metadata": {},
     "output_type": "execute_result"
    }
   ],
   "source": [
    "df.drop('sales',axis=1).corrwith(df.sales)"
   ]
  },
  {
   "cell_type": "code",
   "execution_count": 15,
   "id": "5d3b12e9",
   "metadata": {},
   "outputs": [
    {
     "data": {
      "image/png": "[encoded data removed]",
      "text/plain": [
       "<Figure size 720x720 with 1 Axes>"
      ]
     },
     "metadata": {
      "needs_background": "light"
     },
     "output_type": "display_data"
    }
   ],
   "source": [
    "df.drop('sales',axis=1).corrwith(df.sales).plot(kind='bar',grid=True,figsize=(10,10),\n",
    "                                                     title=\"Correlation with Label\")\n",
    "plt.show()"
   ]
  },
  {
   "cell_type": "code",
   "execution_count": 16,
   "id": "fcfed99f",
   "metadata": {},
   "outputs": [
    {
     "data": {
      "image/png": "[encoded data removed]",
      "text/plain": [
       "<Figure size 1080x576 with 2 Axes>"
      ]
     },
     "metadata": {
      "needs_background": "light"
     },
     "output_type": "display_data"
    }
   ],
   "source": [
    "plt.figure(figsize = (15,8))\n",
    "sns.heatmap(df.corr(),annot=True, linewidths=0.5,linecolor='black',fmt = '.2f')\n",
    "plt.show()"
   ]
  },
  {
   "cell_type": "code",
   "execution_count": 17,
   "id": "a3beef0e",
   "metadata": {},
   "outputs": [
    {
     "data": {
      "image/png": "[encoded data removed]",
      "text/plain": [
       "<Figure size 2160x3024 with 4 Axes>"
      ]
     },
     "metadata": {
      "needs_background": "light"
     },
     "output_type": "display_data"
    }
   ],
   "source": [
    "a = df.columns.values\n",
    "col = 30\n",
    "row = 14\n",
    "plt.figure(figsize = (col,3*row))\n",
    "for i in range(0, len(a)):\n",
    "    plt.subplot(row,col,i+1)\n",
    "    sns.boxplot(data = df[a[i]],color='blue',orient='v')\n",
    "    plt.tight_layout()"
   ]
  },
  {
   "cell_type": "code",
   "execution_count": 18,
   "id": "91bdfebe",
   "metadata": {},
   "outputs": [
    {
     "name": "stdout",
     "output_type": "stream",
     "text": [
      "newspaper Highest allowed 95.8898625155685\n",
      "newspaper Lowest allowed -34.7818625155685\n",
      "\n",
      "\n"
     ]
    }
   ],
   "source": [
    "print('newspaper Highest allowed',df['newspaper'].mean()+3*df['newspaper'].std())\n",
    "print('newspaper Lowest allowed',df['newspaper'].mean()-3*df['newspaper'].std())\n",
    "print('\\n')"
   ]
  },
  {
   "cell_type": "code",
   "execution_count": 20,
   "id": "28d2ffb1",
   "metadata": {},
   "outputs": [],
   "source": [
    "df1=df[(df['newspaper']<95.89)]"
   ]
  },
  {
   "cell_type": "code",
   "execution_count": 21,
   "id": "c208e089",
   "metadata": {},
   "outputs": [
    {
     "data": {
      "text/html": [
       "<div>\n",
       "<style scoped>\n",
       "    .dataframe tbody tr th:only-of-type {\n",
       "        vertical-align: middle;\n",
       "    }\n",
       "\n",
       "    .dataframe tbody tr th {\n",
       "        vertical-align: top;\n",
       "    }\n",
       "\n",
       "    .dataframe thead th {\n",
       "        text-align: right;\n",
       "    }\n",
       "</style>\n",
       "<table border=\"1\" class=\"dataframe\">\n",
       "  <thead>\n",
       "    <tr style=\"text-align: right;\">\n",
       "      <th></th>\n",
       "      <th>index</th>\n",
       "      <th>TV</th>\n",
       "      <th>radio</th>\n",
       "      <th>newspaper</th>\n",
       "      <th>sales</th>\n",
       "    </tr>\n",
       "  </thead>\n",
       "  <tbody>\n",
       "    <tr>\n",
       "      <th>0</th>\n",
       "      <td>0</td>\n",
       "      <td>230.1</td>\n",
       "      <td>37.8</td>\n",
       "      <td>69.2</td>\n",
       "      <td>22.1</td>\n",
       "    </tr>\n",
       "    <tr>\n",
       "      <th>1</th>\n",
       "      <td>1</td>\n",
       "      <td>44.5</td>\n",
       "      <td>39.3</td>\n",
       "      <td>45.1</td>\n",
       "      <td>10.4</td>\n",
       "    </tr>\n",
       "    <tr>\n",
       "      <th>2</th>\n",
       "      <td>2</td>\n",
       "      <td>17.2</td>\n",
       "      <td>45.9</td>\n",
       "      <td>69.3</td>\n",
       "      <td>9.3</td>\n",
       "    </tr>\n",
       "    <tr>\n",
       "      <th>3</th>\n",
       "      <td>3</td>\n",
       "      <td>151.5</td>\n",
       "      <td>41.3</td>\n",
       "      <td>58.5</td>\n",
       "      <td>18.5</td>\n",
       "    </tr>\n",
       "    <tr>\n",
       "      <th>4</th>\n",
       "      <td>4</td>\n",
       "      <td>180.8</td>\n",
       "      <td>10.8</td>\n",
       "      <td>58.4</td>\n",
       "      <td>12.9</td>\n",
       "    </tr>\n",
       "    <tr>\n",
       "      <th>...</th>\n",
       "      <td>...</td>\n",
       "      <td>...</td>\n",
       "      <td>...</td>\n",
       "      <td>...</td>\n",
       "      <td>...</td>\n",
       "    </tr>\n",
       "    <tr>\n",
       "      <th>193</th>\n",
       "      <td>195</td>\n",
       "      <td>38.2</td>\n",
       "      <td>3.7</td>\n",
       "      <td>13.8</td>\n",
       "      <td>7.6</td>\n",
       "    </tr>\n",
       "    <tr>\n",
       "      <th>194</th>\n",
       "      <td>196</td>\n",
       "      <td>94.2</td>\n",
       "      <td>4.9</td>\n",
       "      <td>8.1</td>\n",
       "      <td>9.7</td>\n",
       "    </tr>\n",
       "    <tr>\n",
       "      <th>195</th>\n",
       "      <td>197</td>\n",
       "      <td>177.0</td>\n",
       "      <td>9.3</td>\n",
       "      <td>6.4</td>\n",
       "      <td>12.8</td>\n",
       "    </tr>\n",
       "    <tr>\n",
       "      <th>196</th>\n",
       "      <td>198</td>\n",
       "      <td>283.6</td>\n",
       "      <td>42.0</td>\n",
       "      <td>66.2</td>\n",
       "      <td>25.5</td>\n",
       "    </tr>\n",
       "    <tr>\n",
       "      <th>197</th>\n",
       "      <td>199</td>\n",
       "      <td>232.1</td>\n",
       "      <td>8.6</td>\n",
       "      <td>8.7</td>\n",
       "      <td>13.4</td>\n",
       "    </tr>\n",
       "  </tbody>\n",
       "</table>\n",
       "<p>198 rows × 5 columns</p>\n",
       "</div>"
      ],
      "text/plain": [
       "     index     TV  radio  newspaper  sales\n",
       "0        0  230.1   37.8       69.2   22.1\n",
       "1        1   44.5   39.3       45.1   10.4\n",
       "2        2   17.2   45.9       69.3    9.3\n",
       "3        3  151.5   41.3       58.5   18.5\n",
       "4        4  180.8   10.8       58.4   12.9\n",
       "..     ...    ...    ...        ...    ...\n",
       "193    195   38.2    3.7       13.8    7.6\n",
       "194    196   94.2    4.9        8.1    9.7\n",
       "195    197  177.0    9.3        6.4   12.8\n",
       "196    198  283.6   42.0       66.2   25.5\n",
       "197    199  232.1    8.6        8.7   13.4\n",
       "\n",
       "[198 rows x 5 columns]"
      ]
     },
     "execution_count": 21,
     "metadata": {},
     "output_type": "execute_result"
    }
   ],
   "source": [
    "df1.reset_index()"
   ]
  },
  {
   "cell_type": "code",
   "execution_count": 22,
   "id": "eba88aea",
   "metadata": {},
   "outputs": [],
   "source": [
    "x = df1.drop('sales',axis=1)\n",
    "y = df1['sales']"
   ]
  },
  {
   "cell_type": "code",
   "execution_count": 23,
   "id": "4ef11bba",
   "metadata": {},
   "outputs": [],
   "source": [
    "scaler = StandardScaler()\n",
    "X_scale = scaler.fit_transform(x)"
   ]
  },
  {
   "cell_type": "markdown",
   "id": "e6ed53f6",
   "metadata": {},
   "source": [
    "# LinearRegression"
   ]
  },
  {
   "cell_type": "code",
   "execution_count": 24,
   "id": "13426960",
   "metadata": {},
   "outputs": [],
   "source": [
    "reg= LinearRegression()"
   ]
  },
  {
   "cell_type": "code",
   "execution_count": 25,
   "id": "da7166ea",
   "metadata": {},
   "outputs": [
    {
     "name": "stdout",
     "output_type": "stream",
     "text": [
      "At Random state 0 the training accuracy is :- 0.8810539797064412\n",
      "At Random state 0 the testing accuracy is :- 0.9169198405610238\n",
      "\n",
      "\n",
      "At Random state 1 the training accuracy is :- 0.8914052092368193\n",
      "At Random state 1 the testing accuracy is :- 0.9015908192580149\n",
      "\n",
      "\n",
      "At Random state 2 the training accuracy is :- 0.914062166521022\n",
      "At Random state 2 the testing accuracy is :- 0.8428698015955045\n",
      "\n",
      "\n",
      "At Random state 3 the training accuracy is :- 0.885841774992629\n",
      "At Random state 3 the testing accuracy is :- 0.9149570033494691\n",
      "\n",
      "\n",
      "At Random state 4 the training accuracy is :- 0.9005093374961071\n",
      "At Random state 4 the testing accuracy is :- 0.8621726482172964\n",
      "\n",
      "\n",
      "At Random state 5 the training accuracy is :- 0.9002368728891074\n",
      "At Random state 5 the testing accuracy is :- 0.8657156665982401\n",
      "\n",
      "\n",
      "At Random state 6 the training accuracy is :- 0.8940891865124617\n",
      "At Random state 6 the testing accuracy is :- 0.8929377262182756\n",
      "\n",
      "\n",
      "At Random state 7 the training accuracy is :- 0.8913212594482884\n",
      "At Random state 7 the testing accuracy is :- 0.902590941988776\n",
      "\n",
      "\n",
      "At Random state 8 the training accuracy is :- 0.903849244948646\n",
      "At Random state 8 the testing accuracy is :- 0.865029591633671\n",
      "\n",
      "\n",
      "At Random state 9 the training accuracy is :- 0.8856986692132401\n",
      "At Random state 9 the testing accuracy is :- 0.9188498439112269\n",
      "\n",
      "\n",
      "At Random state 10 the training accuracy is :- 0.9241062893563661\n",
      "At Random state 10 the testing accuracy is :- 0.7951173616742407\n",
      "\n",
      "\n",
      "At Random state 11 the training accuracy is :- 0.876760874656774\n",
      "At Random state 11 the testing accuracy is :- 0.9289103750473018\n",
      "\n",
      "\n",
      "At Random state 12 the training accuracy is :- 0.8931578407707009\n",
      "At Random state 12 the testing accuracy is :- 0.89973353302668\n",
      "\n",
      "\n",
      "At Random state 13 the training accuracy is :- 0.9060765469082515\n",
      "At Random state 13 the testing accuracy is :- 0.8561689920266639\n",
      "\n",
      "\n",
      "At Random state 14 the training accuracy is :- 0.8857218014577829\n",
      "At Random state 14 the testing accuracy is :- 0.9108282387120527\n",
      "\n",
      "\n",
      "At Random state 15 the training accuracy is :- 0.8949681184849284\n",
      "At Random state 15 the testing accuracy is :- 0.8884316700228988\n",
      "\n",
      "\n",
      "At Random state 16 the training accuracy is :- 0.8933835577571033\n",
      "At Random state 16 the testing accuracy is :- 0.8975078269869035\n",
      "\n",
      "\n",
      "At Random state 17 the training accuracy is :- 0.8855265607362957\n",
      "At Random state 17 the testing accuracy is :- 0.9170206452931521\n",
      "\n",
      "\n",
      "At Random state 18 the training accuracy is :- 0.9082127846838537\n",
      "At Random state 18 the testing accuracy is :- 0.853443701790112\n",
      "\n",
      "\n",
      "At Random state 19 the training accuracy is :- 0.8954406938458388\n",
      "At Random state 19 the testing accuracy is :- 0.8793796456452381\n",
      "\n",
      "\n",
      "At Random state 20 the training accuracy is :- 0.8870988181914187\n",
      "At Random state 20 the testing accuracy is :- 0.9095782935285907\n",
      "\n",
      "\n",
      "At Random state 21 the training accuracy is :- 0.8825512746017693\n",
      "At Random state 21 the testing accuracy is :- 0.9262002210878196\n",
      "\n",
      "\n",
      "At Random state 22 the training accuracy is :- 0.8876396895290157\n",
      "At Random state 22 the testing accuracy is :- 0.9141547275883325\n",
      "\n",
      "\n",
      "At Random state 23 the training accuracy is :- 0.885419524102501\n",
      "At Random state 23 the testing accuracy is :- 0.9237665796289405\n",
      "\n",
      "\n",
      "At Random state 24 the training accuracy is :- 0.8866118542113203\n",
      "At Random state 24 the testing accuracy is :- 0.9192085343374117\n",
      "\n",
      "\n",
      "At Random state 25 the training accuracy is :- 0.8873907302261678\n",
      "At Random state 25 the testing accuracy is :- 0.9197578194342941\n",
      "\n",
      "\n",
      "At Random state 26 the training accuracy is :- 0.90183599166359\n",
      "At Random state 26 the testing accuracy is :- 0.8603287483245742\n",
      "\n",
      "\n",
      "At Random state 27 the training accuracy is :- 0.9075654630635709\n",
      "At Random state 27 the testing accuracy is :- 0.8491594088703343\n",
      "\n",
      "\n",
      "At Random state 28 the training accuracy is :- 0.91389230092298\n",
      "At Random state 28 the testing accuracy is :- 0.8403271367654539\n",
      "\n",
      "\n",
      "At Random state 29 the training accuracy is :- 0.9030306028389004\n",
      "At Random state 29 the testing accuracy is :- 0.8704207414798624\n",
      "\n",
      "\n",
      "At Random state 30 the training accuracy is :- 0.9070776141077194\n",
      "At Random state 30 the testing accuracy is :- 0.86189697646848\n",
      "\n",
      "\n",
      "At Random state 31 the training accuracy is :- 0.8839752333246071\n",
      "At Random state 31 the testing accuracy is :- 0.9173910496155672\n",
      "\n",
      "\n",
      "At Random state 32 the training accuracy is :- 0.8778166788492068\n",
      "At Random state 32 the testing accuracy is :- 0.9305643964367929\n",
      "\n",
      "\n",
      "At Random state 33 the training accuracy is :- 0.8871101183714359\n",
      "At Random state 33 the testing accuracy is :- 0.9110577814616807\n",
      "\n",
      "\n",
      "At Random state 34 the training accuracy is :- 0.892823480554173\n",
      "At Random state 34 the testing accuracy is :- 0.8992899198315181\n",
      "\n",
      "\n",
      "At Random state 35 the training accuracy is :- 0.8878040826870547\n",
      "At Random state 35 the testing accuracy is :- 0.9139045253711834\n",
      "\n",
      "\n",
      "At Random state 36 the training accuracy is :- 0.8856647133422302\n",
      "At Random state 36 the testing accuracy is :- 0.9178882198557765\n",
      "\n",
      "\n",
      "At Random state 37 the training accuracy is :- 0.8921157480569006\n",
      "At Random state 37 the testing accuracy is :- 0.9088593952519426\n",
      "\n",
      "\n",
      "At Random state 38 the training accuracy is :- 0.8957621207689871\n",
      "At Random state 38 the testing accuracy is :- 0.8919120015425293\n",
      "\n",
      "\n",
      "At Random state 39 the training accuracy is :- 0.9209006342608599\n",
      "At Random state 39 the testing accuracy is :- 0.8202179632118622\n",
      "\n",
      "\n",
      "At Random state 40 the training accuracy is :- 0.8970884523864686\n",
      "At Random state 40 the testing accuracy is :- 0.8790382810696002\n",
      "\n",
      "\n",
      "At Random state 41 the training accuracy is :- 0.8952819860406261\n",
      "At Random state 41 the testing accuracy is :- 0.8883448572546557\n",
      "\n",
      "\n",
      "At Random state 42 the training accuracy is :- 0.8965725335855812\n",
      "At Random state 42 the testing accuracy is :- 0.8798818054597369\n",
      "\n",
      "\n",
      "At Random state 43 the training accuracy is :- 0.9023105405049009\n",
      "At Random state 43 the testing accuracy is :- 0.8734797346070337\n",
      "\n",
      "\n",
      "At Random state 44 the training accuracy is :- 0.9072876689226178\n",
      "At Random state 44 the testing accuracy is :- 0.7870311436238406\n",
      "\n",
      "\n",
      "At Random state 45 the training accuracy is :- 0.8866608742386284\n",
      "At Random state 45 the testing accuracy is :- 0.9195045683729378\n",
      "\n",
      "\n",
      "At Random state 46 the training accuracy is :- 0.8940264579404555\n",
      "At Random state 46 the testing accuracy is :- 0.8965504727216232\n",
      "\n",
      "\n",
      "At Random state 47 the training accuracy is :- 0.8949789107594806\n",
      "At Random state 47 the testing accuracy is :- 0.8864837353210117\n",
      "\n",
      "\n",
      "At Random state 48 the training accuracy is :- 0.9083369215302286\n",
      "At Random state 48 the testing accuracy is :- 0.8454657618075954\n",
      "\n",
      "\n",
      "At Random state 49 the training accuracy is :- 0.9119605638523443\n",
      "At Random state 49 the testing accuracy is :- 0.8356465745966288\n",
      "\n",
      "\n",
      "At Random state 50 the training accuracy is :- 0.8989655485746761\n",
      "At Random state 50 the testing accuracy is :- 0.8700877377785489\n",
      "\n",
      "\n",
      "At Random state 51 the training accuracy is :- 0.8933239500998784\n",
      "At Random state 51 the testing accuracy is :- 0.8946667710464431\n",
      "\n",
      "\n",
      "At Random state 52 the training accuracy is :- 0.8959342954096137\n",
      "At Random state 52 the testing accuracy is :- 0.8835743101509068\n",
      "\n",
      "\n",
      "At Random state 53 the training accuracy is :- 0.9107822708734491\n",
      "At Random state 53 the testing accuracy is :- 0.8378538876160282\n",
      "\n",
      "\n",
      "At Random state 54 the training accuracy is :- 0.901740485357992\n",
      "At Random state 54 the testing accuracy is :- 0.8710172289243905\n",
      "\n",
      "\n",
      "At Random state 55 the training accuracy is :- 0.8948138297171151\n",
      "At Random state 55 the testing accuracy is :- 0.8932520941388606\n",
      "\n",
      "\n",
      "At Random state 56 the training accuracy is :- 0.9021179084681006\n",
      "At Random state 56 the testing accuracy is :- 0.86823010938707\n",
      "\n",
      "\n",
      "At Random state 57 the training accuracy is :- 0.9052058286121734\n",
      "At Random state 57 the testing accuracy is :- 0.8672472965889801\n",
      "\n",
      "\n",
      "At Random state 58 the training accuracy is :- 0.88842242944722\n",
      "At Random state 58 the testing accuracy is :- 0.9108186877137611\n",
      "\n",
      "\n",
      "At Random state 59 the training accuracy is :- 0.8820763844286946\n",
      "At Random state 59 the testing accuracy is :- 0.9272958971459213\n",
      "\n",
      "\n",
      "At Random state 60 the training accuracy is :- 0.8934849869367317\n",
      "At Random state 60 the testing accuracy is :- 0.8929128639103951\n",
      "\n",
      "\n",
      "At Random state 61 the training accuracy is :- 0.9036663153158655\n",
      "At Random state 61 the testing accuracy is :- 0.8647928397335941\n",
      "\n",
      "\n",
      "At Random state 62 the training accuracy is :- 0.9004229423535045\n",
      "At Random state 62 the testing accuracy is :- 0.8660536864070901\n",
      "\n",
      "\n",
      "At Random state 63 the training accuracy is :- 0.8982854441536255\n",
      "At Random state 63 the testing accuracy is :- 0.8822170291359195\n",
      "\n",
      "\n",
      "At Random state 64 the training accuracy is :- 0.8901737252006487\n",
      "At Random state 64 the testing accuracy is :- 0.9069822319239804\n",
      "\n",
      "\n",
      "At Random state 65 the training accuracy is :- 0.899291414566941\n",
      "At Random state 65 the testing accuracy is :- 0.8831360853301763\n",
      "\n",
      "\n",
      "At Random state 66 the training accuracy is :- 0.8980925381757547\n",
      "At Random state 66 the testing accuracy is :- 0.8868037093740212\n",
      "\n",
      "\n",
      "At Random state 67 the training accuracy is :- 0.9100645257473602\n",
      "At Random state 67 the testing accuracy is :- 0.8337986432139309\n",
      "\n",
      "\n",
      "At Random state 68 the training accuracy is :- 0.9074294677620635\n",
      "At Random state 68 the testing accuracy is :- 0.854297153642775\n",
      "\n",
      "\n",
      "At Random state 69 the training accuracy is :- 0.8905145303450618\n",
      "At Random state 69 the testing accuracy is :- 0.9067897211031278\n",
      "\n",
      "\n",
      "At Random state 70 the training accuracy is :- 0.8814142066332283\n",
      "At Random state 70 the testing accuracy is :- 0.9233616021770836\n",
      "\n",
      "\n",
      "At Random state 71 the training accuracy is :- 0.904499066311255\n",
      "At Random state 71 the testing accuracy is :- 0.8613631208154039\n",
      "\n",
      "\n",
      "At Random state 72 the training accuracy is :- 0.891700025634664\n",
      "At Random state 72 the testing accuracy is :- 0.9009699175615795\n",
      "\n",
      "\n",
      "At Random state 73 the training accuracy is :- 0.9070506621422163\n",
      "At Random state 73 the testing accuracy is :- 0.8282208002587317\n",
      "\n",
      "\n",
      "At Random state 74 the training accuracy is :- 0.8717514344896877\n",
      "At Random state 74 the testing accuracy is :- 0.9299634470872307\n",
      "\n",
      "\n",
      "At Random state 75 the training accuracy is :- 0.8956871054772689\n",
      "At Random state 75 the testing accuracy is :- 0.8702367654314429\n",
      "\n",
      "\n",
      "At Random state 76 the training accuracy is :- 0.907090012654218\n",
      "At Random state 76 the testing accuracy is :- 0.8435735173492058\n",
      "\n",
      "\n",
      "At Random state 77 the training accuracy is :- 0.8937974483260736\n",
      "At Random state 77 the testing accuracy is :- 0.894073265814924\n",
      "\n",
      "\n",
      "At Random state 78 the training accuracy is :- 0.9145745709401826\n",
      "At Random state 78 the testing accuracy is :- 0.8021797648617455\n",
      "\n",
      "\n",
      "At Random state 79 the training accuracy is :- 0.8895858208396461\n",
      "At Random state 79 the testing accuracy is :- 0.905140961752432\n",
      "\n",
      "\n",
      "At Random state 80 the training accuracy is :- 0.9090667036700861\n",
      "At Random state 80 the testing accuracy is :- 0.8529870656007774\n",
      "\n",
      "\n",
      "At Random state 81 the training accuracy is :- 0.88496578381988\n",
      "At Random state 81 the testing accuracy is :- 0.9196747975044504\n",
      "\n",
      "\n",
      "At Random state 82 the training accuracy is :- 0.9080803712794285\n",
      "At Random state 82 the testing accuracy is :- 0.846488872925647\n",
      "\n",
      "\n",
      "At Random state 83 the training accuracy is :- 0.8974643554222185\n",
      "At Random state 83 the testing accuracy is :- 0.8872260883091608\n",
      "\n",
      "\n",
      "At Random state 84 the training accuracy is :- 0.8795687838867422\n",
      "At Random state 84 the testing accuracy is :- 0.933453888410971\n",
      "\n",
      "\n",
      "At Random state 85 the training accuracy is :- 0.9104066217287404\n",
      "At Random state 85 the testing accuracy is :- 0.8059624873315542\n",
      "\n",
      "\n",
      "At Random state 86 the training accuracy is :- 0.8921940716329879\n",
      "At Random state 86 the testing accuracy is :- 0.9034644313660974\n",
      "\n",
      "\n",
      "At Random state 87 the training accuracy is :- 0.9067047219710271\n",
      "At Random state 87 the testing accuracy is :- 0.8600105671818679\n",
      "\n",
      "\n",
      "At Random state 88 the training accuracy is :- 0.8940023526381555\n",
      "At Random state 88 the testing accuracy is :- 0.8986039710624293\n",
      "\n",
      "\n",
      "At Random state 89 the training accuracy is :- 0.9067009932967101\n",
      "At Random state 89 the testing accuracy is :- 0.8325093879270798\n",
      "\n",
      "\n",
      "At Random state 90 the training accuracy is :- 0.8766973467277427\n",
      "At Random state 90 the testing accuracy is :- 0.9450468735016785\n",
      "\n",
      "\n",
      "At Random state 91 the training accuracy is :- 0.8981772376795876\n",
      "At Random state 91 the testing accuracy is :- 0.8755646443272793\n",
      "\n",
      "\n",
      "At Random state 92 the training accuracy is :- 0.8907607544863373\n",
      "At Random state 92 the testing accuracy is :- 0.900651811120152\n",
      "\n",
      "\n",
      "At Random state 93 the training accuracy is :- 0.9106603302133333\n",
      "At Random state 93 the testing accuracy is :- 0.8432429767116514\n",
      "\n",
      "\n",
      "At Random state 94 the training accuracy is :- 0.9059337639580862\n",
      "At Random state 94 the testing accuracy is :- 0.8681086266444902\n",
      "\n",
      "\n",
      "At Random state 95 the training accuracy is :- 0.9046877378354444\n",
      "At Random state 95 the testing accuracy is :- 0.8597598249404447\n",
      "\n",
      "\n",
      "At Random state 96 the training accuracy is :- 0.8988704396456592\n",
      "At Random state 96 the testing accuracy is :- 0.8792353196654474\n",
      "\n",
      "\n",
      "At Random state 97 the training accuracy is :- 0.890168392467765\n",
      "At Random state 97 the testing accuracy is :- 0.9083151937834544\n",
      "\n",
      "\n",
      "At Random state 98 the training accuracy is :- 0.9116871828823891\n",
      "At Random state 98 the testing accuracy is :- 0.8375395249336524\n",
      "\n",
      "\n",
      "At Random state 99 the training accuracy is :- 0.8845113697646669\n",
      "At Random state 99 the testing accuracy is :- 0.9214648818321176\n",
      "\n",
      "\n"
     ]
    }
   ],
   "source": [
    "for i in range(0,100):\n",
    "    x_train,x_test,y_train,y_test = train_test_split(X_scale,y,test_size = 0.25,random_state = i)\n",
    "    reg.fit(x_train, y_train)\n",
    "    x_pred = reg.predict(x_train)\n",
    "    y_pred = reg.predict(x_test)\n",
    "    print(\"At Random state\", (i), \"the training accuracy is :-\", (r2_score (y_train,x_pred)))\n",
    "    print(\"At Random state\", (i), \"the testing accuracy is :-\", (r2_score (y_test,y_pred)))\n",
    "    print('\\n')"
   ]
  },
  {
   "cell_type": "code",
   "execution_count": 26,
   "id": "628aa64b",
   "metadata": {},
   "outputs": [],
   "source": [
    "x_train,x_test,y_train,y_test = train_test_split(X_scale,y,test_size = 0.25,random_state = 1)"
   ]
  },
  {
   "cell_type": "code",
   "execution_count": 27,
   "id": "599b92c6",
   "metadata": {},
   "outputs": [
    {
     "data": {
      "text/plain": [
       "0.8902741633439696"
      ]
     },
     "execution_count": 27,
     "metadata": {},
     "output_type": "execute_result"
    }
   ],
   "source": [
    "reg.score(x_train, y_train)"
   ]
  },
  {
   "cell_type": "code",
   "execution_count": 28,
   "id": "217575cf",
   "metadata": {},
   "outputs": [
    {
     "data": {
      "text/plain": [
       "0.9090407065584054"
      ]
     },
     "execution_count": 28,
     "metadata": {},
     "output_type": "execute_result"
    }
   ],
   "source": [
    "y_pred = reg.predict(x_test)\n",
    "reg.score(x_test, y_test)"
   ]
  },
  {
   "cell_type": "code",
   "execution_count": 29,
   "id": "6da1f721",
   "metadata": {},
   "outputs": [
    {
     "data": {
      "image/png": "[encoded data removed]",
      "text/plain": [
       "<Figure size 432x288 with 1 Axes>"
      ]
     },
     "metadata": {
      "needs_background": "light"
     },
     "output_type": "display_data"
    }
   ],
   "source": [
    "plt.scatter(y_test, y_pred)\n",
    "plt.xlabel('Actual Quality')\n",
    "plt.ylabel('Predicted Quality')\n",
    "plt.title('Actual vs Predicted')\n",
    "plt.show()"
   ]
  },
  {
   "cell_type": "code",
   "execution_count": 30,
   "id": "c61b0741",
   "metadata": {},
   "outputs": [
    {
     "name": "stdout",
     "output_type": "stream",
     "text": [
      "r2_score 0.9090407065584054\n",
      "mean_absolute_error 1.0862886571717405\n",
      "mean_squared_error 2.2376892141194955\n"
     ]
    }
   ],
   "source": [
    "print ('r2_score',r2_score (y_test,y_pred))\n",
    "print ('mean_absolute_error',mean_absolute_error(y_test,y_pred))\n",
    "print ('mean_squared_error',mean_squared_error (y_test,y_pred))"
   ]
  },
  {
   "cell_type": "code",
   "execution_count": 31,
   "id": "2ffa7a91",
   "metadata": {},
   "outputs": [
    {
     "data": {
      "text/plain": [
       "0.9020076689249494"
      ]
     },
     "execution_count": 31,
     "metadata": {},
     "output_type": "execute_result"
    }
   ],
   "source": [
    "Lassocv = LassoCV(alphas = None, max_iter = 100, normalize = True)\n",
    "Lassocv.fit(x_train, y_train)\n",
    "alpha = Lassocv.alpha_\n",
    "lasso_reg = Lasso(alpha)\n",
    "lasso_reg.fit(x_train, y_train)\n",
    "lasso_reg.score(x_test, y_test)"
   ]
  },
  {
   "cell_type": "code",
   "execution_count": 32,
   "id": "0c650c05",
   "metadata": {},
   "outputs": [
    {
     "data": {
      "text/plain": [
       "0.9015922342626412"
      ]
     },
     "execution_count": 32,
     "metadata": {},
     "output_type": "execute_result"
    }
   ],
   "source": [
    "rdgcv = RidgeCV(alphas = np.arange(0.001,0.1,0.01),normalize = True)\n",
    "rdgcv.fit(x_train, y_train)\n",
    "rd_model = Ridge(alpha=rdgcv.alpha_)\n",
    "rd_model.fit(x_train, y_train)\n",
    "rd_model.score(x_test, y_test)"
   ]
  },
  {
   "cell_type": "code",
   "execution_count": null,
   "id": "00a9bc56",
   "metadata": {},
   "outputs": [],
   "source": []
  },
  {
   "cell_type": "markdown",
   "id": "74ec8ce4",
   "metadata": {},
   "source": [
    "# DecisionTreeRegressor"
   ]
  },
  {
   "cell_type": "code",
   "execution_count": 33,
   "id": "1a0f4e5f",
   "metadata": {},
   "outputs": [],
   "source": [
    "x_train,x_test,y_train,y_test = train_test_split(x,y,test_size = 0.25,random_state = 1)"
   ]
  },
  {
   "cell_type": "code",
   "execution_count": 34,
   "id": "cf42c53d",
   "metadata": {},
   "outputs": [
    {
     "data": {
      "text/plain": [
       "DecisionTreeRegressor()"
      ]
     },
     "execution_count": 34,
     "metadata": {},
     "output_type": "execute_result"
    }
   ],
   "source": [
    "dtr = DecisionTreeRegressor()\n",
    "dtr.fit(x_train,y_train)"
   ]
  },
  {
   "cell_type": "code",
   "execution_count": 35,
   "id": "84496a8a",
   "metadata": {},
   "outputs": [
    {
     "data": {
      "text/plain": [
       "1.0"
      ]
     },
     "execution_count": 35,
     "metadata": {},
     "output_type": "execute_result"
    }
   ],
   "source": [
    "dtr.score(x_train,y_train)"
   ]
  },
  {
   "cell_type": "code",
   "execution_count": 36,
   "id": "1f11bb8b",
   "metadata": {},
   "outputs": [
    {
     "data": {
      "text/plain": [
       "0.9568879243750944"
      ]
     },
     "execution_count": 36,
     "metadata": {},
     "output_type": "execute_result"
    }
   ],
   "source": [
    "y_pred = dtr.predict(x_test)\n",
    "dtr.score(x_test, y_test)"
   ]
  },
  {
   "cell_type": "code",
   "execution_count": 37,
   "id": "75c33ac1",
   "metadata": {},
   "outputs": [
    {
     "data": {
      "text/plain": [
       "0.9568879243750944"
      ]
     },
     "execution_count": 37,
     "metadata": {},
     "output_type": "execute_result"
    }
   ],
   "source": [
    "metrics.r2_score(y_test, y_pred)"
   ]
  },
  {
   "cell_type": "code",
   "execution_count": null,
   "id": "ab8816ef",
   "metadata": {},
   "outputs": [],
   "source": []
  },
  {
   "cell_type": "markdown",
   "id": "589b3065",
   "metadata": {},
   "source": [
    "# AdaBoostRegressor"
   ]
  },
  {
   "cell_type": "code",
   "execution_count": 38,
   "id": "fc5aa5a0",
   "metadata": {},
   "outputs": [],
   "source": [
    "x_train,x_test,y_train,y_test = train_test_split(X_scale,y,test_size = 0.25,random_state = 1)"
   ]
  },
  {
   "cell_type": "code",
   "execution_count": 39,
   "id": "b371538e",
   "metadata": {},
   "outputs": [],
   "source": [
    "ada = AdaBoostRegressor()"
   ]
  },
  {
   "cell_type": "code",
   "execution_count": 40,
   "id": "7f00e33d",
   "metadata": {},
   "outputs": [
    {
     "data": {
      "text/plain": [
       "AdaBoostRegressor()"
      ]
     },
     "execution_count": 40,
     "metadata": {},
     "output_type": "execute_result"
    }
   ],
   "source": [
    "ada.fit(x_train, y_train)"
   ]
  },
  {
   "cell_type": "code",
   "execution_count": 41,
   "id": "f8622340",
   "metadata": {},
   "outputs": [],
   "source": [
    "x_pred = ada.predict(x_train) "
   ]
  },
  {
   "cell_type": "code",
   "execution_count": 42,
   "id": "757a529a",
   "metadata": {},
   "outputs": [
    {
     "data": {
      "text/plain": [
       "0.975975225506956"
      ]
     },
     "execution_count": 42,
     "metadata": {},
     "output_type": "execute_result"
    }
   ],
   "source": [
    "accuracy = metrics.r2_score(y_train, x_pred)\n",
    "accuracy"
   ]
  },
  {
   "cell_type": "code",
   "execution_count": 43,
   "id": "1f02f8e0",
   "metadata": {},
   "outputs": [
    {
     "data": {
      "text/plain": [
       "0.9541396653586292"
      ]
     },
     "execution_count": 43,
     "metadata": {},
     "output_type": "execute_result"
    }
   ],
   "source": [
    "y_pred = ada.predict(x_test) \n",
    "ada.score(x_test, y_test)"
   ]
  },
  {
   "cell_type": "code",
   "execution_count": 44,
   "id": "4f2071d9",
   "metadata": {},
   "outputs": [
    {
     "data": {
      "text/plain": [
       "0.9541396653586292"
      ]
     },
     "execution_count": 44,
     "metadata": {},
     "output_type": "execute_result"
    }
   ],
   "source": [
    "metrics.r2_score(y_test, y_pred)"
   ]
  },
  {
   "cell_type": "code",
   "execution_count": null,
   "id": "ff631026",
   "metadata": {},
   "outputs": [],
   "source": []
  },
  {
   "cell_type": "markdown",
   "id": "35e99895",
   "metadata": {},
   "source": [
    "# GradientBoostingRegressor"
   ]
  },
  {
   "cell_type": "code",
   "execution_count": 45,
   "id": "17df6a77",
   "metadata": {},
   "outputs": [],
   "source": [
    "x_train,x_test,y_train,y_test = train_test_split(X_scale,y,test_size = 0.25,random_state = 1)"
   ]
  },
  {
   "cell_type": "code",
   "execution_count": 46,
   "id": "bb37678a",
   "metadata": {},
   "outputs": [
    {
     "data": {
      "text/plain": [
       "GradientBoostingRegressor()"
      ]
     },
     "execution_count": 46,
     "metadata": {},
     "output_type": "execute_result"
    }
   ],
   "source": [
    "gbdt = GradientBoostingRegressor()\n",
    "gbdt.fit(x_train, y_train)"
   ]
  },
  {
   "cell_type": "code",
   "execution_count": 47,
   "id": "5dee9c8c",
   "metadata": {},
   "outputs": [],
   "source": [
    "x_pred = gbdt.predict(x_train) "
   ]
  },
  {
   "cell_type": "code",
   "execution_count": 48,
   "id": "df664ac6",
   "metadata": {},
   "outputs": [
    {
     "data": {
      "text/plain": [
       "0.9986231381153071"
      ]
     },
     "execution_count": 48,
     "metadata": {},
     "output_type": "execute_result"
    }
   ],
   "source": [
    "accuracy = metrics.r2_score(y_train, x_pred)\n",
    "accuracy"
   ]
  },
  {
   "cell_type": "code",
   "execution_count": 49,
   "id": "57641668",
   "metadata": {},
   "outputs": [
    {
     "data": {
      "text/plain": [
       "0.9872711057437938"
      ]
     },
     "execution_count": 49,
     "metadata": {},
     "output_type": "execute_result"
    }
   ],
   "source": [
    "y_pred = gbdt.predict(x_test) \n",
    "gbdt.score(x_test, y_test)"
   ]
  },
  {
   "cell_type": "code",
   "execution_count": 50,
   "id": "341a02c9",
   "metadata": {},
   "outputs": [
    {
     "data": {
      "text/plain": [
       "0.9872711057437938"
      ]
     },
     "execution_count": 50,
     "metadata": {},
     "output_type": "execute_result"
    }
   ],
   "source": [
    "metrics.r2_score(y_test, y_pred)"
   ]
  },
  {
   "cell_type": "code",
   "execution_count": null,
   "id": "384101b3",
   "metadata": {},
   "outputs": [],
   "source": []
  },
  {
   "cell_type": "markdown",
   "id": "c04c5c0c",
   "metadata": {},
   "source": [
    "# RandomForestRegressor"
   ]
  },
  {
   "cell_type": "code",
   "execution_count": 51,
   "id": "a4eb22ff",
   "metadata": {},
   "outputs": [],
   "source": [
    "x_train,x_test,y_train,y_test = train_test_split(X_scale,y,test_size = 0.25,random_state = 1)"
   ]
  },
  {
   "cell_type": "code",
   "execution_count": 52,
   "id": "51db2298",
   "metadata": {},
   "outputs": [
    {
     "data": {
      "text/plain": [
       "RandomForestRegressor()"
      ]
     },
     "execution_count": 52,
     "metadata": {},
     "output_type": "execute_result"
    }
   ],
   "source": [
    "rand = RandomForestRegressor()\n",
    "rand.fit(x_train,y_train)"
   ]
  },
  {
   "cell_type": "code",
   "execution_count": 53,
   "id": "7941263b",
   "metadata": {},
   "outputs": [],
   "source": [
    "y_pred=rand.predict(x_test)"
   ]
  },
  {
   "cell_type": "code",
   "execution_count": 54,
   "id": "a4d062cd",
   "metadata": {},
   "outputs": [
    {
     "data": {
      "text/plain": [
       "0.9849622877057499"
      ]
     },
     "execution_count": 54,
     "metadata": {},
     "output_type": "execute_result"
    }
   ],
   "source": [
    "rand.score(x_test, y_test)"
   ]
  },
  {
   "cell_type": "code",
   "execution_count": 55,
   "id": "d97bfe49",
   "metadata": {},
   "outputs": [
    {
     "data": {
      "text/plain": [
       "0.9849622877057499"
      ]
     },
     "execution_count": 55,
     "metadata": {},
     "output_type": "execute_result"
    }
   ],
   "source": [
    "metrics.r2_score(y_test, y_pred)"
   ]
  },
  {
   "cell_type": "code",
   "execution_count": 56,
   "id": "ce088e2f",
   "metadata": {},
   "outputs": [],
   "source": [
    "x_pred = rand.predict(x_train) "
   ]
  },
  {
   "cell_type": "code",
   "execution_count": 57,
   "id": "e325a8ca",
   "metadata": {},
   "outputs": [
    {
     "data": {
      "text/plain": [
       "0.996520028361906"
      ]
     },
     "execution_count": 57,
     "metadata": {},
     "output_type": "execute_result"
    }
   ],
   "source": [
    "accuracy = metrics.r2_score(y_train, x_pred)\n",
    "accuracy"
   ]
  },
  {
   "cell_type": "code",
   "execution_count": null,
   "id": "850036f4",
   "metadata": {},
   "outputs": [],
   "source": []
  },
  {
   "cell_type": "markdown",
   "id": "5d8e4040",
   "metadata": {},
   "source": [
    "# Findings"
   ]
  },
  {
   "cell_type": "markdown",
   "id": "5dbfbeed",
   "metadata": {},
   "source": [
    "- LinearRegression train accuracy score 89.02% and test accuracy score 90.90%\n",
    "- DecisionTreeRegressor train accuracy score 100% and test accuracy score 95.69%\n",
    "- AdaBoostRegressor train accuracy score 97.6% and test accuracy score 95.41%\n",
    "- GradientBoostingRegressor train accuracy score 99.86% and test accuracy score 98.73%\n",
    "- RandomForestRegressor train accuracy score 99.65% and test accuracy score 98.5%"
   ]
  },
  {
   "cell_type": "markdown",
   "id": "4916571e",
   "metadata": {},
   "source": [
    "### Selecting GradientBoostingRegressor since the Accuracy score and test scores are greater and clsoe to each other."
   ]
  },
  {
   "cell_type": "code",
   "execution_count": 58,
   "id": "5e312b8c",
   "metadata": {},
   "outputs": [],
   "source": [
    "file = 'Advertising_Sales_Channel.pickle'\n",
    "pickle.dump(gbdt, open(file, 'wb'))"
   ]
  },
  {
   "cell_type": "code",
   "execution_count": null,
   "id": "940a9a4f",
   "metadata": {},
   "outputs": [],
   "source": []
  }
 ],
 "metadata": {
  "kernelspec": {
   "display_name": "Python 3 (ipykernel)",
   "language": "python",
   "name": "python3"
  },
  "language_info": {
   "codemirror_mode": {
    "name": "ipython",
    "version": 3
   },
   "file_extension": ".py",
   "mimetype": "text/x-python",
   "name": "python",
   "nbconvert_exporter": "python",
   "pygments_lexer": "ipython3",
   "version": "3.9.7"
  }
 },
 "nbformat": 4,
 "nbformat_minor": 5
}
