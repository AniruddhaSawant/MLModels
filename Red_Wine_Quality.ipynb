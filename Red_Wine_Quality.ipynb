{
 "cells": [
  {
   "cell_type": "code",
   "execution_count": 1,
   "id": "3da32199",
   "metadata": {},
   "outputs": [],
   "source": [
    "import numpy as np\n",
    "import pandas as pd\n",
    "import seaborn as sns\n",
    "import matplotlib.pyplot as plt\n",
    "from sklearn.preprocessing import StandardScaler\n",
    "from sklearn.linear_model import LinearRegression\n",
    "from sklearn.model_selection import train_test_split, GridSearchCV\n",
    "import pickle\n",
    "from sklearn.metrics import mean_squared_error, mean_absolute_error\n",
    "from sklearn.linear_model import Ridge,Lasso,RidgeCV,LassoCV\n",
    "from sklearn.preprocessing import MinMaxScaler\n",
    "from sklearn.metrics import r2_score, accuracy_score, classification_report, confusion_matrix, roc_curve, roc_auc_score\n",
    "from sklearn.ensemble import ExtraTreesRegressor\n",
    "from sklearn.tree import DecisionTreeClassifier\n",
    "from sklearn.model_selection import cross_val_score\n",
    "\n",
    "\n",
    "import warnings \n",
    "warnings.filterwarnings('ignore')"
   ]
  },
  {
   "cell_type": "code",
   "execution_count": 2,
   "id": "2bb8f0a7",
   "metadata": {},
   "outputs": [
    {
     "data": {
      "text/html": [
       "<div>\n",
       "<style scoped>\n",
       "    .dataframe tbody tr th:only-of-type {\n",
       "        vertical-align: middle;\n",
       "    }\n",
       "\n",
       "    .dataframe tbody tr th {\n",
       "        vertical-align: top;\n",
       "    }\n",
       "\n",
       "    .dataframe thead th {\n",
       "        text-align: right;\n",
       "    }\n",
       "</style>\n",
       "<table border=\"1\" class=\"dataframe\">\n",
       "  <thead>\n",
       "    <tr style=\"text-align: right;\">\n",
       "      <th></th>\n",
       "      <th>fixed acidity</th>\n",
       "      <th>volatile acidity</th>\n",
       "      <th>citric acid</th>\n",
       "      <th>residual sugar</th>\n",
       "      <th>chlorides</th>\n",
       "      <th>free sulfur dioxide</th>\n",
       "      <th>total sulfur dioxide</th>\n",
       "      <th>density</th>\n",
       "      <th>pH</th>\n",
       "      <th>sulphates</th>\n",
       "      <th>alcohol</th>\n",
       "      <th>quality</th>\n",
       "    </tr>\n",
       "  </thead>\n",
       "  <tbody>\n",
       "    <tr>\n",
       "      <th>0</th>\n",
       "      <td>7.4</td>\n",
       "      <td>0.700</td>\n",
       "      <td>0.00</td>\n",
       "      <td>1.9</td>\n",
       "      <td>0.076</td>\n",
       "      <td>11.0</td>\n",
       "      <td>34.0</td>\n",
       "      <td>0.99780</td>\n",
       "      <td>3.51</td>\n",
       "      <td>0.56</td>\n",
       "      <td>9.4</td>\n",
       "      <td>5</td>\n",
       "    </tr>\n",
       "    <tr>\n",
       "      <th>1</th>\n",
       "      <td>7.8</td>\n",
       "      <td>0.880</td>\n",
       "      <td>0.00</td>\n",
       "      <td>2.6</td>\n",
       "      <td>0.098</td>\n",
       "      <td>25.0</td>\n",
       "      <td>67.0</td>\n",
       "      <td>0.99680</td>\n",
       "      <td>3.20</td>\n",
       "      <td>0.68</td>\n",
       "      <td>9.8</td>\n",
       "      <td>5</td>\n",
       "    </tr>\n",
       "    <tr>\n",
       "      <th>2</th>\n",
       "      <td>7.8</td>\n",
       "      <td>0.760</td>\n",
       "      <td>0.04</td>\n",
       "      <td>2.3</td>\n",
       "      <td>0.092</td>\n",
       "      <td>15.0</td>\n",
       "      <td>54.0</td>\n",
       "      <td>0.99700</td>\n",
       "      <td>3.26</td>\n",
       "      <td>0.65</td>\n",
       "      <td>9.8</td>\n",
       "      <td>5</td>\n",
       "    </tr>\n",
       "    <tr>\n",
       "      <th>3</th>\n",
       "      <td>11.2</td>\n",
       "      <td>0.280</td>\n",
       "      <td>0.56</td>\n",
       "      <td>1.9</td>\n",
       "      <td>0.075</td>\n",
       "      <td>17.0</td>\n",
       "      <td>60.0</td>\n",
       "      <td>0.99800</td>\n",
       "      <td>3.16</td>\n",
       "      <td>0.58</td>\n",
       "      <td>9.8</td>\n",
       "      <td>6</td>\n",
       "    </tr>\n",
       "    <tr>\n",
       "      <th>4</th>\n",
       "      <td>7.4</td>\n",
       "      <td>0.700</td>\n",
       "      <td>0.00</td>\n",
       "      <td>1.9</td>\n",
       "      <td>0.076</td>\n",
       "      <td>11.0</td>\n",
       "      <td>34.0</td>\n",
       "      <td>0.99780</td>\n",
       "      <td>3.51</td>\n",
       "      <td>0.56</td>\n",
       "      <td>9.4</td>\n",
       "      <td>5</td>\n",
       "    </tr>\n",
       "    <tr>\n",
       "      <th>...</th>\n",
       "      <td>...</td>\n",
       "      <td>...</td>\n",
       "      <td>...</td>\n",
       "      <td>...</td>\n",
       "      <td>...</td>\n",
       "      <td>...</td>\n",
       "      <td>...</td>\n",
       "      <td>...</td>\n",
       "      <td>...</td>\n",
       "      <td>...</td>\n",
       "      <td>...</td>\n",
       "      <td>...</td>\n",
       "    </tr>\n",
       "    <tr>\n",
       "      <th>1594</th>\n",
       "      <td>6.2</td>\n",
       "      <td>0.600</td>\n",
       "      <td>0.08</td>\n",
       "      <td>2.0</td>\n",
       "      <td>0.090</td>\n",
       "      <td>32.0</td>\n",
       "      <td>44.0</td>\n",
       "      <td>0.99490</td>\n",
       "      <td>3.45</td>\n",
       "      <td>0.58</td>\n",
       "      <td>10.5</td>\n",
       "      <td>5</td>\n",
       "    </tr>\n",
       "    <tr>\n",
       "      <th>1595</th>\n",
       "      <td>5.9</td>\n",
       "      <td>0.550</td>\n",
       "      <td>0.10</td>\n",
       "      <td>2.2</td>\n",
       "      <td>0.062</td>\n",
       "      <td>39.0</td>\n",
       "      <td>51.0</td>\n",
       "      <td>0.99512</td>\n",
       "      <td>3.52</td>\n",
       "      <td>0.76</td>\n",
       "      <td>11.2</td>\n",
       "      <td>6</td>\n",
       "    </tr>\n",
       "    <tr>\n",
       "      <th>1596</th>\n",
       "      <td>6.3</td>\n",
       "      <td>0.510</td>\n",
       "      <td>0.13</td>\n",
       "      <td>2.3</td>\n",
       "      <td>0.076</td>\n",
       "      <td>29.0</td>\n",
       "      <td>40.0</td>\n",
       "      <td>0.99574</td>\n",
       "      <td>3.42</td>\n",
       "      <td>0.75</td>\n",
       "      <td>11.0</td>\n",
       "      <td>6</td>\n",
       "    </tr>\n",
       "    <tr>\n",
       "      <th>1597</th>\n",
       "      <td>5.9</td>\n",
       "      <td>0.645</td>\n",
       "      <td>0.12</td>\n",
       "      <td>2.0</td>\n",
       "      <td>0.075</td>\n",
       "      <td>32.0</td>\n",
       "      <td>44.0</td>\n",
       "      <td>0.99547</td>\n",
       "      <td>3.57</td>\n",
       "      <td>0.71</td>\n",
       "      <td>10.2</td>\n",
       "      <td>5</td>\n",
       "    </tr>\n",
       "    <tr>\n",
       "      <th>1598</th>\n",
       "      <td>6.0</td>\n",
       "      <td>0.310</td>\n",
       "      <td>0.47</td>\n",
       "      <td>3.6</td>\n",
       "      <td>0.067</td>\n",
       "      <td>18.0</td>\n",
       "      <td>42.0</td>\n",
       "      <td>0.99549</td>\n",
       "      <td>3.39</td>\n",
       "      <td>0.66</td>\n",
       "      <td>11.0</td>\n",
       "      <td>6</td>\n",
       "    </tr>\n",
       "  </tbody>\n",
       "</table>\n",
       "<p>1599 rows × 12 columns</p>\n",
       "</div>"
      ],
      "text/plain": [
       "      fixed acidity  volatile acidity  citric acid  residual sugar  chlorides  \\\n",
       "0               7.4             0.700         0.00             1.9      0.076   \n",
       "1               7.8             0.880         0.00             2.6      0.098   \n",
       "2               7.8             0.760         0.04             2.3      0.092   \n",
       "3              11.2             0.280         0.56             1.9      0.075   \n",
       "4               7.4             0.700         0.00             1.9      0.076   \n",
       "...             ...               ...          ...             ...        ...   \n",
       "1594            6.2             0.600         0.08             2.0      0.090   \n",
       "1595            5.9             0.550         0.10             2.2      0.062   \n",
       "1596            6.3             0.510         0.13             2.3      0.076   \n",
       "1597            5.9             0.645         0.12             2.0      0.075   \n",
       "1598            6.0             0.310         0.47             3.6      0.067   \n",
       "\n",
       "      free sulfur dioxide  total sulfur dioxide  density    pH  sulphates  \\\n",
       "0                    11.0                  34.0  0.99780  3.51       0.56   \n",
       "1                    25.0                  67.0  0.99680  3.20       0.68   \n",
       "2                    15.0                  54.0  0.99700  3.26       0.65   \n",
       "3                    17.0                  60.0  0.99800  3.16       0.58   \n",
       "4                    11.0                  34.0  0.99780  3.51       0.56   \n",
       "...                   ...                   ...      ...   ...        ...   \n",
       "1594                 32.0                  44.0  0.99490  3.45       0.58   \n",
       "1595                 39.0                  51.0  0.99512  3.52       0.76   \n",
       "1596                 29.0                  40.0  0.99574  3.42       0.75   \n",
       "1597                 32.0                  44.0  0.99547  3.57       0.71   \n",
       "1598                 18.0                  42.0  0.99549  3.39       0.66   \n",
       "\n",
       "      alcohol  quality  \n",
       "0         9.4        5  \n",
       "1         9.8        5  \n",
       "2         9.8        5  \n",
       "3         9.8        6  \n",
       "4         9.4        5  \n",
       "...       ...      ...  \n",
       "1594     10.5        5  \n",
       "1595     11.2        6  \n",
       "1596     11.0        6  \n",
       "1597     10.2        5  \n",
       "1598     11.0        6  \n",
       "\n",
       "[1599 rows x 12 columns]"
      ]
     },
     "execution_count": 2,
     "metadata": {},
     "output_type": "execute_result"
    }
   ],
   "source": [
    "df = pd.read_csv('https://raw.githubusercontent.com/dsrscientist/DSData/master/winequality-red.csv')\n",
    "df"
   ]
  },
  {
   "cell_type": "markdown",
   "id": "3853b605",
   "metadata": {},
   "source": [
    "# Data Cleaning and Visualization"
   ]
  },
  {
   "cell_type": "code",
   "execution_count": 3,
   "id": "41cf86c7",
   "metadata": {},
   "outputs": [
    {
     "data": {
      "image/png": "[encoded data removed]",
      "text/plain": [
       "<Figure size 432x288 with 1 Axes>"
      ]
     },
     "metadata": {
      "needs_background": "light"
     },
     "output_type": "display_data"
    }
   ],
   "source": [
    "df['quality'].value_counts().plot(kind='bar')\n",
    "plt.show()"
   ]
  },
  {
   "cell_type": "code",
   "execution_count": 4,
   "id": "15d9fa9b",
   "metadata": {},
   "outputs": [],
   "source": [
    "def change(x):\n",
    "    if (x<6):\n",
    "        return 'B'\n",
    "    else:\n",
    "        return 'A'"
   ]
  },
  {
   "cell_type": "code",
   "execution_count": 5,
   "id": "2ec2963c",
   "metadata": {},
   "outputs": [],
   "source": [
    "df['Class']= df['quality'].apply(change)"
   ]
  },
  {
   "cell_type": "code",
   "execution_count": 6,
   "id": "c273e586",
   "metadata": {},
   "outputs": [
    {
     "name": "stdout",
     "output_type": "stream",
     "text": [
      "A    855\n",
      "B    744\n",
      "Name: Class, dtype: int64\n"
     ]
    },
    {
     "data": {
      "image/png": "[encoded data removed]",
      "text/plain": [
       "<Figure size 432x288 with 1 Axes>"
      ]
     },
     "metadata": {
      "needs_background": "light"
     },
     "output_type": "display_data"
    }
   ],
   "source": [
    "print (df['Class'].value_counts())\n",
    "df['Class'].value_counts().plot(kind='bar')\n",
    "plt.show()"
   ]
  },
  {
   "cell_type": "markdown",
   "id": "33b5ae47",
   "metadata": {},
   "source": [
    "#### Assuming 6 and 7 Quality to be good i.e 'A' and below 6 is bad i.e 'B' "
   ]
  },
  {
   "cell_type": "code",
   "execution_count": 7,
   "id": "1390319a",
   "metadata": {},
   "outputs": [
    {
     "data": {
      "text/html": [
       "<div>\n",
       "<style scoped>\n",
       "    .dataframe tbody tr th:only-of-type {\n",
       "        vertical-align: middle;\n",
       "    }\n",
       "\n",
       "    .dataframe tbody tr th {\n",
       "        vertical-align: top;\n",
       "    }\n",
       "\n",
       "    .dataframe thead th {\n",
       "        text-align: right;\n",
       "    }\n",
       "</style>\n",
       "<table border=\"1\" class=\"dataframe\">\n",
       "  <thead>\n",
       "    <tr style=\"text-align: right;\">\n",
       "      <th></th>\n",
       "      <th>fixed acidity</th>\n",
       "      <th>volatile acidity</th>\n",
       "      <th>citric acid</th>\n",
       "      <th>residual sugar</th>\n",
       "      <th>chlorides</th>\n",
       "      <th>free sulfur dioxide</th>\n",
       "      <th>total sulfur dioxide</th>\n",
       "      <th>density</th>\n",
       "      <th>pH</th>\n",
       "      <th>sulphates</th>\n",
       "      <th>alcohol</th>\n",
       "      <th>quality</th>\n",
       "      <th>Class</th>\n",
       "    </tr>\n",
       "  </thead>\n",
       "  <tbody>\n",
       "    <tr>\n",
       "      <th>0</th>\n",
       "      <td>7.4</td>\n",
       "      <td>0.700</td>\n",
       "      <td>0.00</td>\n",
       "      <td>1.9</td>\n",
       "      <td>0.076</td>\n",
       "      <td>11.0</td>\n",
       "      <td>34.0</td>\n",
       "      <td>0.99780</td>\n",
       "      <td>3.51</td>\n",
       "      <td>0.56</td>\n",
       "      <td>9.4</td>\n",
       "      <td>5</td>\n",
       "      <td>B</td>\n",
       "    </tr>\n",
       "    <tr>\n",
       "      <th>1</th>\n",
       "      <td>7.8</td>\n",
       "      <td>0.880</td>\n",
       "      <td>0.00</td>\n",
       "      <td>2.6</td>\n",
       "      <td>0.098</td>\n",
       "      <td>25.0</td>\n",
       "      <td>67.0</td>\n",
       "      <td>0.99680</td>\n",
       "      <td>3.20</td>\n",
       "      <td>0.68</td>\n",
       "      <td>9.8</td>\n",
       "      <td>5</td>\n",
       "      <td>B</td>\n",
       "    </tr>\n",
       "    <tr>\n",
       "      <th>2</th>\n",
       "      <td>7.8</td>\n",
       "      <td>0.760</td>\n",
       "      <td>0.04</td>\n",
       "      <td>2.3</td>\n",
       "      <td>0.092</td>\n",
       "      <td>15.0</td>\n",
       "      <td>54.0</td>\n",
       "      <td>0.99700</td>\n",
       "      <td>3.26</td>\n",
       "      <td>0.65</td>\n",
       "      <td>9.8</td>\n",
       "      <td>5</td>\n",
       "      <td>B</td>\n",
       "    </tr>\n",
       "    <tr>\n",
       "      <th>3</th>\n",
       "      <td>11.2</td>\n",
       "      <td>0.280</td>\n",
       "      <td>0.56</td>\n",
       "      <td>1.9</td>\n",
       "      <td>0.075</td>\n",
       "      <td>17.0</td>\n",
       "      <td>60.0</td>\n",
       "      <td>0.99800</td>\n",
       "      <td>3.16</td>\n",
       "      <td>0.58</td>\n",
       "      <td>9.8</td>\n",
       "      <td>6</td>\n",
       "      <td>A</td>\n",
       "    </tr>\n",
       "    <tr>\n",
       "      <th>4</th>\n",
       "      <td>7.4</td>\n",
       "      <td>0.700</td>\n",
       "      <td>0.00</td>\n",
       "      <td>1.9</td>\n",
       "      <td>0.076</td>\n",
       "      <td>11.0</td>\n",
       "      <td>34.0</td>\n",
       "      <td>0.99780</td>\n",
       "      <td>3.51</td>\n",
       "      <td>0.56</td>\n",
       "      <td>9.4</td>\n",
       "      <td>5</td>\n",
       "      <td>B</td>\n",
       "    </tr>\n",
       "    <tr>\n",
       "      <th>...</th>\n",
       "      <td>...</td>\n",
       "      <td>...</td>\n",
       "      <td>...</td>\n",
       "      <td>...</td>\n",
       "      <td>...</td>\n",
       "      <td>...</td>\n",
       "      <td>...</td>\n",
       "      <td>...</td>\n",
       "      <td>...</td>\n",
       "      <td>...</td>\n",
       "      <td>...</td>\n",
       "      <td>...</td>\n",
       "      <td>...</td>\n",
       "    </tr>\n",
       "    <tr>\n",
       "      <th>1594</th>\n",
       "      <td>6.2</td>\n",
       "      <td>0.600</td>\n",
       "      <td>0.08</td>\n",
       "      <td>2.0</td>\n",
       "      <td>0.090</td>\n",
       "      <td>32.0</td>\n",
       "      <td>44.0</td>\n",
       "      <td>0.99490</td>\n",
       "      <td>3.45</td>\n",
       "      <td>0.58</td>\n",
       "      <td>10.5</td>\n",
       "      <td>5</td>\n",
       "      <td>B</td>\n",
       "    </tr>\n",
       "    <tr>\n",
       "      <th>1595</th>\n",
       "      <td>5.9</td>\n",
       "      <td>0.550</td>\n",
       "      <td>0.10</td>\n",
       "      <td>2.2</td>\n",
       "      <td>0.062</td>\n",
       "      <td>39.0</td>\n",
       "      <td>51.0</td>\n",
       "      <td>0.99512</td>\n",
       "      <td>3.52</td>\n",
       "      <td>0.76</td>\n",
       "      <td>11.2</td>\n",
       "      <td>6</td>\n",
       "      <td>A</td>\n",
       "    </tr>\n",
       "    <tr>\n",
       "      <th>1596</th>\n",
       "      <td>6.3</td>\n",
       "      <td>0.510</td>\n",
       "      <td>0.13</td>\n",
       "      <td>2.3</td>\n",
       "      <td>0.076</td>\n",
       "      <td>29.0</td>\n",
       "      <td>40.0</td>\n",
       "      <td>0.99574</td>\n",
       "      <td>3.42</td>\n",
       "      <td>0.75</td>\n",
       "      <td>11.0</td>\n",
       "      <td>6</td>\n",
       "      <td>A</td>\n",
       "    </tr>\n",
       "    <tr>\n",
       "      <th>1597</th>\n",
       "      <td>5.9</td>\n",
       "      <td>0.645</td>\n",
       "      <td>0.12</td>\n",
       "      <td>2.0</td>\n",
       "      <td>0.075</td>\n",
       "      <td>32.0</td>\n",
       "      <td>44.0</td>\n",
       "      <td>0.99547</td>\n",
       "      <td>3.57</td>\n",
       "      <td>0.71</td>\n",
       "      <td>10.2</td>\n",
       "      <td>5</td>\n",
       "      <td>B</td>\n",
       "    </tr>\n",
       "    <tr>\n",
       "      <th>1598</th>\n",
       "      <td>6.0</td>\n",
       "      <td>0.310</td>\n",
       "      <td>0.47</td>\n",
       "      <td>3.6</td>\n",
       "      <td>0.067</td>\n",
       "      <td>18.0</td>\n",
       "      <td>42.0</td>\n",
       "      <td>0.99549</td>\n",
       "      <td>3.39</td>\n",
       "      <td>0.66</td>\n",
       "      <td>11.0</td>\n",
       "      <td>6</td>\n",
       "      <td>A</td>\n",
       "    </tr>\n",
       "  </tbody>\n",
       "</table>\n",
       "<p>1599 rows × 13 columns</p>\n",
       "</div>"
      ],
      "text/plain": [
       "      fixed acidity  volatile acidity  citric acid  residual sugar  chlorides  \\\n",
       "0               7.4             0.700         0.00             1.9      0.076   \n",
       "1               7.8             0.880         0.00             2.6      0.098   \n",
       "2               7.8             0.760         0.04             2.3      0.092   \n",
       "3              11.2             0.280         0.56             1.9      0.075   \n",
       "4               7.4             0.700         0.00             1.9      0.076   \n",
       "...             ...               ...          ...             ...        ...   \n",
       "1594            6.2             0.600         0.08             2.0      0.090   \n",
       "1595            5.9             0.550         0.10             2.2      0.062   \n",
       "1596            6.3             0.510         0.13             2.3      0.076   \n",
       "1597            5.9             0.645         0.12             2.0      0.075   \n",
       "1598            6.0             0.310         0.47             3.6      0.067   \n",
       "\n",
       "      free sulfur dioxide  total sulfur dioxide  density    pH  sulphates  \\\n",
       "0                    11.0                  34.0  0.99780  3.51       0.56   \n",
       "1                    25.0                  67.0  0.99680  3.20       0.68   \n",
       "2                    15.0                  54.0  0.99700  3.26       0.65   \n",
       "3                    17.0                  60.0  0.99800  3.16       0.58   \n",
       "4                    11.0                  34.0  0.99780  3.51       0.56   \n",
       "...                   ...                   ...      ...   ...        ...   \n",
       "1594                 32.0                  44.0  0.99490  3.45       0.58   \n",
       "1595                 39.0                  51.0  0.99512  3.52       0.76   \n",
       "1596                 29.0                  40.0  0.99574  3.42       0.75   \n",
       "1597                 32.0                  44.0  0.99547  3.57       0.71   \n",
       "1598                 18.0                  42.0  0.99549  3.39       0.66   \n",
       "\n",
       "      alcohol  quality Class  \n",
       "0         9.4        5     B  \n",
       "1         9.8        5     B  \n",
       "2         9.8        5     B  \n",
       "3         9.8        6     A  \n",
       "4         9.4        5     B  \n",
       "...       ...      ...   ...  \n",
       "1594     10.5        5     B  \n",
       "1595     11.2        6     A  \n",
       "1596     11.0        6     A  \n",
       "1597     10.2        5     B  \n",
       "1598     11.0        6     A  \n",
       "\n",
       "[1599 rows x 13 columns]"
      ]
     },
     "execution_count": 7,
     "metadata": {},
     "output_type": "execute_result"
    }
   ],
   "source": [
    "df"
   ]
  },
  {
   "cell_type": "code",
   "execution_count": 8,
   "id": "6cab51f8",
   "metadata": {},
   "outputs": [
    {
     "name": "stdout",
     "output_type": "stream",
     "text": [
      "<class 'pandas.core.frame.DataFrame'>\n",
      "RangeIndex: 1599 entries, 0 to 1598\n",
      "Data columns (total 13 columns):\n",
      " #   Column                Non-Null Count  Dtype  \n",
      "---  ------                --------------  -----  \n",
      " 0   fixed acidity         1599 non-null   float64\n",
      " 1   volatile acidity      1599 non-null   float64\n",
      " 2   citric acid           1599 non-null   float64\n",
      " 3   residual sugar        1599 non-null   float64\n",
      " 4   chlorides             1599 non-null   float64\n",
      " 5   free sulfur dioxide   1599 non-null   float64\n",
      " 6   total sulfur dioxide  1599 non-null   float64\n",
      " 7   density               1599 non-null   float64\n",
      " 8   pH                    1599 non-null   float64\n",
      " 9   sulphates             1599 non-null   float64\n",
      " 10  alcohol               1599 non-null   float64\n",
      " 11  quality               1599 non-null   int64  \n",
      " 12  Class                 1599 non-null   object \n",
      "dtypes: float64(11), int64(1), object(1)\n",
      "memory usage: 162.5+ KB\n"
     ]
    }
   ],
   "source": [
    "df.info()"
   ]
  },
  {
   "cell_type": "markdown",
   "id": "7aa550c7",
   "metadata": {},
   "source": [
    "There are no Null Values"
   ]
  },
  {
   "cell_type": "code",
   "execution_count": 9,
   "id": "30b445da",
   "metadata": {},
   "outputs": [],
   "source": [
    "from sklearn.preprocessing import OrdinalEncoder\n",
    "enc = OrdinalEncoder()"
   ]
  },
  {
   "cell_type": "code",
   "execution_count": 10,
   "id": "fb121e6f",
   "metadata": {},
   "outputs": [],
   "source": [
    "for i in df.columns:\n",
    "    if df[i].dtypes=='object':\n",
    "        df[i]=enc.fit_transform(df[i].values.reshape(-1,1))"
   ]
  },
  {
   "cell_type": "code",
   "execution_count": 11,
   "id": "f8655225",
   "metadata": {},
   "outputs": [
    {
     "data": {
      "text/html": [
       "<div>\n",
       "<style scoped>\n",
       "    .dataframe tbody tr th:only-of-type {\n",
       "        vertical-align: middle;\n",
       "    }\n",
       "\n",
       "    .dataframe tbody tr th {\n",
       "        vertical-align: top;\n",
       "    }\n",
       "\n",
       "    .dataframe thead th {\n",
       "        text-align: right;\n",
       "    }\n",
       "</style>\n",
       "<table border=\"1\" class=\"dataframe\">\n",
       "  <thead>\n",
       "    <tr style=\"text-align: right;\">\n",
       "      <th></th>\n",
       "      <th>fixed acidity</th>\n",
       "      <th>volatile acidity</th>\n",
       "      <th>citric acid</th>\n",
       "      <th>residual sugar</th>\n",
       "      <th>chlorides</th>\n",
       "      <th>free sulfur dioxide</th>\n",
       "      <th>total sulfur dioxide</th>\n",
       "      <th>density</th>\n",
       "      <th>pH</th>\n",
       "      <th>sulphates</th>\n",
       "      <th>alcohol</th>\n",
       "      <th>quality</th>\n",
       "      <th>Class</th>\n",
       "    </tr>\n",
       "  </thead>\n",
       "  <tbody>\n",
       "    <tr>\n",
       "      <th>count</th>\n",
       "      <td>1599.000000</td>\n",
       "      <td>1599.000000</td>\n",
       "      <td>1599.000000</td>\n",
       "      <td>1599.000000</td>\n",
       "      <td>1599.000000</td>\n",
       "      <td>1599.000000</td>\n",
       "      <td>1599.000000</td>\n",
       "      <td>1599.000000</td>\n",
       "      <td>1599.000000</td>\n",
       "      <td>1599.000000</td>\n",
       "      <td>1599.000000</td>\n",
       "      <td>1599.000000</td>\n",
       "      <td>1599.000000</td>\n",
       "    </tr>\n",
       "    <tr>\n",
       "      <th>mean</th>\n",
       "      <td>8.319637</td>\n",
       "      <td>0.527821</td>\n",
       "      <td>0.270976</td>\n",
       "      <td>2.538806</td>\n",
       "      <td>0.087467</td>\n",
       "      <td>15.874922</td>\n",
       "      <td>46.467792</td>\n",
       "      <td>0.996747</td>\n",
       "      <td>3.311113</td>\n",
       "      <td>0.658149</td>\n",
       "      <td>10.422983</td>\n",
       "      <td>5.636023</td>\n",
       "      <td>0.465291</td>\n",
       "    </tr>\n",
       "    <tr>\n",
       "      <th>std</th>\n",
       "      <td>1.741096</td>\n",
       "      <td>0.179060</td>\n",
       "      <td>0.194801</td>\n",
       "      <td>1.409928</td>\n",
       "      <td>0.047065</td>\n",
       "      <td>10.460157</td>\n",
       "      <td>32.895324</td>\n",
       "      <td>0.001887</td>\n",
       "      <td>0.154386</td>\n",
       "      <td>0.169507</td>\n",
       "      <td>1.065668</td>\n",
       "      <td>0.807569</td>\n",
       "      <td>0.498950</td>\n",
       "    </tr>\n",
       "    <tr>\n",
       "      <th>min</th>\n",
       "      <td>4.600000</td>\n",
       "      <td>0.120000</td>\n",
       "      <td>0.000000</td>\n",
       "      <td>0.900000</td>\n",
       "      <td>0.012000</td>\n",
       "      <td>1.000000</td>\n",
       "      <td>6.000000</td>\n",
       "      <td>0.990070</td>\n",
       "      <td>2.740000</td>\n",
       "      <td>0.330000</td>\n",
       "      <td>8.400000</td>\n",
       "      <td>3.000000</td>\n",
       "      <td>0.000000</td>\n",
       "    </tr>\n",
       "    <tr>\n",
       "      <th>25%</th>\n",
       "      <td>7.100000</td>\n",
       "      <td>0.390000</td>\n",
       "      <td>0.090000</td>\n",
       "      <td>1.900000</td>\n",
       "      <td>0.070000</td>\n",
       "      <td>7.000000</td>\n",
       "      <td>22.000000</td>\n",
       "      <td>0.995600</td>\n",
       "      <td>3.210000</td>\n",
       "      <td>0.550000</td>\n",
       "      <td>9.500000</td>\n",
       "      <td>5.000000</td>\n",
       "      <td>0.000000</td>\n",
       "    </tr>\n",
       "    <tr>\n",
       "      <th>50%</th>\n",
       "      <td>7.900000</td>\n",
       "      <td>0.520000</td>\n",
       "      <td>0.260000</td>\n",
       "      <td>2.200000</td>\n",
       "      <td>0.079000</td>\n",
       "      <td>14.000000</td>\n",
       "      <td>38.000000</td>\n",
       "      <td>0.996750</td>\n",
       "      <td>3.310000</td>\n",
       "      <td>0.620000</td>\n",
       "      <td>10.200000</td>\n",
       "      <td>6.000000</td>\n",
       "      <td>0.000000</td>\n",
       "    </tr>\n",
       "    <tr>\n",
       "      <th>75%</th>\n",
       "      <td>9.200000</td>\n",
       "      <td>0.640000</td>\n",
       "      <td>0.420000</td>\n",
       "      <td>2.600000</td>\n",
       "      <td>0.090000</td>\n",
       "      <td>21.000000</td>\n",
       "      <td>62.000000</td>\n",
       "      <td>0.997835</td>\n",
       "      <td>3.400000</td>\n",
       "      <td>0.730000</td>\n",
       "      <td>11.100000</td>\n",
       "      <td>6.000000</td>\n",
       "      <td>1.000000</td>\n",
       "    </tr>\n",
       "    <tr>\n",
       "      <th>max</th>\n",
       "      <td>15.900000</td>\n",
       "      <td>1.580000</td>\n",
       "      <td>1.000000</td>\n",
       "      <td>15.500000</td>\n",
       "      <td>0.611000</td>\n",
       "      <td>72.000000</td>\n",
       "      <td>289.000000</td>\n",
       "      <td>1.003690</td>\n",
       "      <td>4.010000</td>\n",
       "      <td>2.000000</td>\n",
       "      <td>14.900000</td>\n",
       "      <td>8.000000</td>\n",
       "      <td>1.000000</td>\n",
       "    </tr>\n",
       "  </tbody>\n",
       "</table>\n",
       "</div>"
      ],
      "text/plain": [
       "       fixed acidity  volatile acidity  citric acid  residual sugar  \\\n",
       "count    1599.000000       1599.000000  1599.000000     1599.000000   \n",
       "mean        8.319637          0.527821     0.270976        2.538806   \n",
       "std         1.741096          0.179060     0.194801        1.409928   \n",
       "min         4.600000          0.120000     0.000000        0.900000   \n",
       "25%         7.100000          0.390000     0.090000        1.900000   \n",
       "50%         7.900000          0.520000     0.260000        2.200000   \n",
       "75%         9.200000          0.640000     0.420000        2.600000   \n",
       "max        15.900000          1.580000     1.000000       15.500000   \n",
       "\n",
       "         chlorides  free sulfur dioxide  total sulfur dioxide      density  \\\n",
       "count  1599.000000          1599.000000           1599.000000  1599.000000   \n",
       "mean      0.087467            15.874922             46.467792     0.996747   \n",
       "std       0.047065            10.460157             32.895324     0.001887   \n",
       "min       0.012000             1.000000              6.000000     0.990070   \n",
       "25%       0.070000             7.000000             22.000000     0.995600   \n",
       "50%       0.079000            14.000000             38.000000     0.996750   \n",
       "75%       0.090000            21.000000             62.000000     0.997835   \n",
       "max       0.611000            72.000000            289.000000     1.003690   \n",
       "\n",
       "                pH    sulphates      alcohol      quality        Class  \n",
       "count  1599.000000  1599.000000  1599.000000  1599.000000  1599.000000  \n",
       "mean      3.311113     0.658149    10.422983     5.636023     0.465291  \n",
       "std       0.154386     0.169507     1.065668     0.807569     0.498950  \n",
       "min       2.740000     0.330000     8.400000     3.000000     0.000000  \n",
       "25%       3.210000     0.550000     9.500000     5.000000     0.000000  \n",
       "50%       3.310000     0.620000    10.200000     6.000000     0.000000  \n",
       "75%       3.400000     0.730000    11.100000     6.000000     1.000000  \n",
       "max       4.010000     2.000000    14.900000     8.000000     1.000000  "
      ]
     },
     "execution_count": 11,
     "metadata": {},
     "output_type": "execute_result"
    }
   ],
   "source": [
    "df.describe()"
   ]
  },
  {
   "cell_type": "code",
   "execution_count": 12,
   "id": "6d6b1c61",
   "metadata": {},
   "outputs": [],
   "source": [
    "x = df.drop(['quality','Class'],axis=1)\n",
    "y = df['Class']"
   ]
  },
  {
   "cell_type": "code",
   "execution_count": 13,
   "id": "c80fa637",
   "metadata": {},
   "outputs": [
    {
     "data": {
      "image/png": "[encoded data removed]",
      "text/plain": [
       "<Figure size 1800x1080 with 11 Axes>"
      ]
     },
     "metadata": {},
     "output_type": "display_data"
    }
   ],
   "source": [
    "plt.figure(figsize=(25,15), facecolor='white')\n",
    "\n",
    "plotno = 1\n",
    "\n",
    "for column in x:\n",
    "    if plotno <= 12:\n",
    "        ax = plt.subplot(3,4,plotno)\n",
    "        plt.scatter(x[column],y)\n",
    "        plt.xlabel(column,fontsize=20)\n",
    "        \n",
    "    plotno+=1\n",
    "plt.tight_layout()"
   ]
  },
  {
   "cell_type": "code",
   "execution_count": 14,
   "id": "d6473e16",
   "metadata": {},
   "outputs": [
    {
     "data": {
      "image/png": "[encoded data removed]",
      "text/plain": [
       "<Figure size 1800x1080 with 11 Axes>"
      ]
     },
     "metadata": {},
     "output_type": "display_data"
    }
   ],
   "source": [
    "plt.figure(figsize=(25,15), facecolor='white')\n",
    "\n",
    "plotno = 1\n",
    "\n",
    "for column in x:\n",
    "    if plotno <= 12:\n",
    "        ax = plt.subplot(3,4,plotno)\n",
    "        sns.distplot(x[column])\n",
    "        plt.xlabel(column,fontsize=20)\n",
    "        \n",
    "    plotno+=1\n",
    "plt.tight_layout()"
   ]
  },
  {
   "cell_type": "code",
   "execution_count": 15,
   "id": "95eddecf",
   "metadata": {},
   "outputs": [
    {
     "data": {
      "image/png": "[encoded data removed]",
      "text/plain": [
       "<Figure size 2160x3024 with 11 Axes>"
      ]
     },
     "metadata": {
      "needs_background": "light"
     },
     "output_type": "display_data"
    }
   ],
   "source": [
    "a = x.columns.values\n",
    "col = 30\n",
    "row = 14\n",
    "plt.figure(figsize = (col,3*row))\n",
    "for i in range(0, len(a)):\n",
    "    plt.subplot(row,col,i+1)\n",
    "    sns.boxplot(data = x[a[i]],color='blue',orient='v')\n",
    "    plt.tight_layout()"
   ]
  },
  {
   "cell_type": "markdown",
   "id": "d907c1d0",
   "metadata": {},
   "source": [
    "There are many outliers"
   ]
  },
  {
   "cell_type": "code",
   "execution_count": 16,
   "id": "9c9867ad",
   "metadata": {},
   "outputs": [
    {
     "data": {
      "text/plain": [
       "fixed acidity          -0.095093\n",
       "volatile acidity        0.321441\n",
       "citric acid            -0.159129\n",
       "residual sugar          0.002160\n",
       "chlorides               0.109494\n",
       "free sulfur dioxide     0.061757\n",
       "total sulfur dioxide    0.231963\n",
       "density                 0.159110\n",
       "pH                      0.003264\n",
       "sulphates              -0.218072\n",
       "alcohol                -0.434751\n",
       "quality                -0.848279\n",
       "dtype: float64"
      ]
     },
     "execution_count": 16,
     "metadata": {},
     "output_type": "execute_result"
    }
   ],
   "source": [
    "df.drop('Class',axis=1).corrwith(df.Class)"
   ]
  },
  {
   "cell_type": "code",
   "execution_count": 17,
   "id": "440bcf61",
   "metadata": {},
   "outputs": [],
   "source": [
    "df.drop('quality',axis=1, inplace=True)"
   ]
  },
  {
   "cell_type": "markdown",
   "id": "23a827b4",
   "metadata": {},
   "source": [
    "# Correlation Matrix"
   ]
  },
  {
   "cell_type": "code",
   "execution_count": 18,
   "id": "5a5d3f71",
   "metadata": {},
   "outputs": [
    {
     "data": {
      "image/png": "[encoded data removed]",
      "text/plain": [
       "<Figure size 720x720 with 1 Axes>"
      ]
     },
     "metadata": {
      "needs_background": "light"
     },
     "output_type": "display_data"
    }
   ],
   "source": [
    "df.drop('Class',axis=1).corrwith(df.Class).plot(kind='bar',grid=True,figsize=(10,10),\n",
    "                                                     title=\"Correlation with Label\")\n",
    "plt.show()"
   ]
  },
  {
   "cell_type": "code",
   "execution_count": 19,
   "id": "92738257",
   "metadata": {},
   "outputs": [
    {
     "data": {
      "image/png": "[encoded data removed]",
      "text/plain": [
       "<Figure size 1080x576 with 2 Axes>"
      ]
     },
     "metadata": {
      "needs_background": "light"
     },
     "output_type": "display_data"
    }
   ],
   "source": [
    "plt.figure(figsize = (15,8))\n",
    "sns.heatmap(df.corr(),annot=True, linewidths=0.5,linecolor='black',fmt = '.2f')\n",
    "plt.show()"
   ]
  },
  {
   "cell_type": "code",
   "execution_count": 20,
   "id": "21b896d3",
   "metadata": {},
   "outputs": [],
   "source": [
    "df = df.drop(['residual sugar','free sulfur dioxide','pH'],axis=1)"
   ]
  },
  {
   "cell_type": "markdown",
   "id": "e3f46a33",
   "metadata": {},
   "source": [
    "#### Removed 'residual sugar', 'free sulfur dioxide' and 'pH' since it has low correlation with label"
   ]
  },
  {
   "cell_type": "code",
   "execution_count": 21,
   "id": "7c185c26",
   "metadata": {},
   "outputs": [
    {
     "data": {
      "text/html": [
       "<div>\n",
       "<style scoped>\n",
       "    .dataframe tbody tr th:only-of-type {\n",
       "        vertical-align: middle;\n",
       "    }\n",
       "\n",
       "    .dataframe tbody tr th {\n",
       "        vertical-align: top;\n",
       "    }\n",
       "\n",
       "    .dataframe thead th {\n",
       "        text-align: right;\n",
       "    }\n",
       "</style>\n",
       "<table border=\"1\" class=\"dataframe\">\n",
       "  <thead>\n",
       "    <tr style=\"text-align: right;\">\n",
       "      <th></th>\n",
       "      <th>fixed acidity</th>\n",
       "      <th>volatile acidity</th>\n",
       "      <th>citric acid</th>\n",
       "      <th>chlorides</th>\n",
       "      <th>total sulfur dioxide</th>\n",
       "      <th>density</th>\n",
       "      <th>sulphates</th>\n",
       "      <th>alcohol</th>\n",
       "      <th>Class</th>\n",
       "    </tr>\n",
       "  </thead>\n",
       "  <tbody>\n",
       "    <tr>\n",
       "      <th>0</th>\n",
       "      <td>7.4</td>\n",
       "      <td>0.700</td>\n",
       "      <td>0.00</td>\n",
       "      <td>0.076</td>\n",
       "      <td>34.0</td>\n",
       "      <td>0.99780</td>\n",
       "      <td>0.56</td>\n",
       "      <td>9.4</td>\n",
       "      <td>1.0</td>\n",
       "    </tr>\n",
       "    <tr>\n",
       "      <th>1</th>\n",
       "      <td>7.8</td>\n",
       "      <td>0.880</td>\n",
       "      <td>0.00</td>\n",
       "      <td>0.098</td>\n",
       "      <td>67.0</td>\n",
       "      <td>0.99680</td>\n",
       "      <td>0.68</td>\n",
       "      <td>9.8</td>\n",
       "      <td>1.0</td>\n",
       "    </tr>\n",
       "    <tr>\n",
       "      <th>2</th>\n",
       "      <td>7.8</td>\n",
       "      <td>0.760</td>\n",
       "      <td>0.04</td>\n",
       "      <td>0.092</td>\n",
       "      <td>54.0</td>\n",
       "      <td>0.99700</td>\n",
       "      <td>0.65</td>\n",
       "      <td>9.8</td>\n",
       "      <td>1.0</td>\n",
       "    </tr>\n",
       "    <tr>\n",
       "      <th>3</th>\n",
       "      <td>11.2</td>\n",
       "      <td>0.280</td>\n",
       "      <td>0.56</td>\n",
       "      <td>0.075</td>\n",
       "      <td>60.0</td>\n",
       "      <td>0.99800</td>\n",
       "      <td>0.58</td>\n",
       "      <td>9.8</td>\n",
       "      <td>0.0</td>\n",
       "    </tr>\n",
       "    <tr>\n",
       "      <th>4</th>\n",
       "      <td>7.4</td>\n",
       "      <td>0.700</td>\n",
       "      <td>0.00</td>\n",
       "      <td>0.076</td>\n",
       "      <td>34.0</td>\n",
       "      <td>0.99780</td>\n",
       "      <td>0.56</td>\n",
       "      <td>9.4</td>\n",
       "      <td>1.0</td>\n",
       "    </tr>\n",
       "    <tr>\n",
       "      <th>...</th>\n",
       "      <td>...</td>\n",
       "      <td>...</td>\n",
       "      <td>...</td>\n",
       "      <td>...</td>\n",
       "      <td>...</td>\n",
       "      <td>...</td>\n",
       "      <td>...</td>\n",
       "      <td>...</td>\n",
       "      <td>...</td>\n",
       "    </tr>\n",
       "    <tr>\n",
       "      <th>1594</th>\n",
       "      <td>6.2</td>\n",
       "      <td>0.600</td>\n",
       "      <td>0.08</td>\n",
       "      <td>0.090</td>\n",
       "      <td>44.0</td>\n",
       "      <td>0.99490</td>\n",
       "      <td>0.58</td>\n",
       "      <td>10.5</td>\n",
       "      <td>1.0</td>\n",
       "    </tr>\n",
       "    <tr>\n",
       "      <th>1595</th>\n",
       "      <td>5.9</td>\n",
       "      <td>0.550</td>\n",
       "      <td>0.10</td>\n",
       "      <td>0.062</td>\n",
       "      <td>51.0</td>\n",
       "      <td>0.99512</td>\n",
       "      <td>0.76</td>\n",
       "      <td>11.2</td>\n",
       "      <td>0.0</td>\n",
       "    </tr>\n",
       "    <tr>\n",
       "      <th>1596</th>\n",
       "      <td>6.3</td>\n",
       "      <td>0.510</td>\n",
       "      <td>0.13</td>\n",
       "      <td>0.076</td>\n",
       "      <td>40.0</td>\n",
       "      <td>0.99574</td>\n",
       "      <td>0.75</td>\n",
       "      <td>11.0</td>\n",
       "      <td>0.0</td>\n",
       "    </tr>\n",
       "    <tr>\n",
       "      <th>1597</th>\n",
       "      <td>5.9</td>\n",
       "      <td>0.645</td>\n",
       "      <td>0.12</td>\n",
       "      <td>0.075</td>\n",
       "      <td>44.0</td>\n",
       "      <td>0.99547</td>\n",
       "      <td>0.71</td>\n",
       "      <td>10.2</td>\n",
       "      <td>1.0</td>\n",
       "    </tr>\n",
       "    <tr>\n",
       "      <th>1598</th>\n",
       "      <td>6.0</td>\n",
       "      <td>0.310</td>\n",
       "      <td>0.47</td>\n",
       "      <td>0.067</td>\n",
       "      <td>42.0</td>\n",
       "      <td>0.99549</td>\n",
       "      <td>0.66</td>\n",
       "      <td>11.0</td>\n",
       "      <td>0.0</td>\n",
       "    </tr>\n",
       "  </tbody>\n",
       "</table>\n",
       "<p>1599 rows × 9 columns</p>\n",
       "</div>"
      ],
      "text/plain": [
       "      fixed acidity  volatile acidity  citric acid  chlorides  \\\n",
       "0               7.4             0.700         0.00      0.076   \n",
       "1               7.8             0.880         0.00      0.098   \n",
       "2               7.8             0.760         0.04      0.092   \n",
       "3              11.2             0.280         0.56      0.075   \n",
       "4               7.4             0.700         0.00      0.076   \n",
       "...             ...               ...          ...        ...   \n",
       "1594            6.2             0.600         0.08      0.090   \n",
       "1595            5.9             0.550         0.10      0.062   \n",
       "1596            6.3             0.510         0.13      0.076   \n",
       "1597            5.9             0.645         0.12      0.075   \n",
       "1598            6.0             0.310         0.47      0.067   \n",
       "\n",
       "      total sulfur dioxide  density  sulphates  alcohol  Class  \n",
       "0                     34.0  0.99780       0.56      9.4    1.0  \n",
       "1                     67.0  0.99680       0.68      9.8    1.0  \n",
       "2                     54.0  0.99700       0.65      9.8    1.0  \n",
       "3                     60.0  0.99800       0.58      9.8    0.0  \n",
       "4                     34.0  0.99780       0.56      9.4    1.0  \n",
       "...                    ...      ...        ...      ...    ...  \n",
       "1594                  44.0  0.99490       0.58     10.5    1.0  \n",
       "1595                  51.0  0.99512       0.76     11.2    0.0  \n",
       "1596                  40.0  0.99574       0.75     11.0    0.0  \n",
       "1597                  44.0  0.99547       0.71     10.2    1.0  \n",
       "1598                  42.0  0.99549       0.66     11.0    0.0  \n",
       "\n",
       "[1599 rows x 9 columns]"
      ]
     },
     "execution_count": 21,
     "metadata": {},
     "output_type": "execute_result"
    }
   ],
   "source": [
    "df"
   ]
  },
  {
   "cell_type": "code",
   "execution_count": 22,
   "id": "41bdf2a7",
   "metadata": {},
   "outputs": [
    {
     "data": {
      "text/plain": [
       "Index(['fixed acidity', 'volatile acidity', 'citric acid', 'chlorides',\n",
       "       'total sulfur dioxide', 'density', 'sulphates', 'alcohol', 'Class'],\n",
       "      dtype='object')"
      ]
     },
     "execution_count": 22,
     "metadata": {},
     "output_type": "execute_result"
    }
   ],
   "source": [
    "df.columns"
   ]
  },
  {
   "cell_type": "code",
   "execution_count": 23,
   "id": "0340b05c",
   "metadata": {},
   "outputs": [
    {
     "name": "stdout",
     "output_type": "stream",
     "text": [
      "fixed acidity Highest allowed 13.54292622767894\n",
      "fixed acidity Lowest allowed 3.096348318912736\n",
      "\n",
      "\n",
      "volatile acidity Highest allowed 1.064999625281118\n",
      "volatile acidity Lowest allowed -0.00935859964009178\n",
      "\n",
      "\n",
      "citric acid Highest allowed 0.8553790219720501\n",
      "citric acid Lowest allowed -0.3134278024598572\n",
      "\n",
      "\n",
      "chlorides Highest allowed 0.22866244761876303\n",
      "chlorides Lowest allowed -0.053729364441777894\n",
      "\n",
      "\n",
      "total sulfur dioxide Highest allowed 145.15376580512842\n",
      "total sulfur dioxide Lowest allowed -52.21818106466563\n",
      "\n",
      "\n",
      "alcohol Highest allowed 13.619985859988681\n",
      "alcohol Lowest allowed 7.225980368904325\n",
      "\n",
      "\n",
      "density Highest allowed 1.0024086810360109\n",
      "density Lowest allowed 0.9910846773129555\n",
      "\n",
      "\n",
      "sulphates Highest allowed 1.1666697817972214\n",
      "sulphates Lowest allowed 0.1496279042565628\n",
      "\n",
      "\n"
     ]
    }
   ],
   "source": [
    "print('fixed acidity Highest allowed',df['fixed acidity'].mean()+3*df['fixed acidity'].std())\n",
    "print('fixed acidity Lowest allowed',df['fixed acidity'].mean()-3*df['fixed acidity'].std())\n",
    "print('\\n')\n",
    "print('volatile acidity Highest allowed',df['volatile acidity'].mean()+3*df['volatile acidity'].std())\n",
    "print('volatile acidity Lowest allowed',df['volatile acidity'].mean()-3*df['volatile acidity'].std())\n",
    "print('\\n')\n",
    "print('citric acid Highest allowed',df['citric acid'].mean()+3*df['citric acid'].std())\n",
    "print('citric acid Lowest allowed',df['citric acid'].mean()-3*df['citric acid'].std())\n",
    "print('\\n')\n",
    "print('chlorides Highest allowed',df['chlorides'].mean()+3*df['chlorides'].std())\n",
    "print('chlorides Lowest allowed',df['chlorides'].mean()-3*df['chlorides'].std())\n",
    "print('\\n')\n",
    "print('total sulfur dioxide Highest allowed',df['total sulfur dioxide'].mean()+3*df['total sulfur dioxide'].std())\n",
    "print('total sulfur dioxide Lowest allowed',df['total sulfur dioxide'].mean()-3*df['total sulfur dioxide'].std())\n",
    "print('\\n')\n",
    "print('alcohol Highest allowed',df['alcohol'].mean()+3*df['alcohol'].std())\n",
    "print('alcohol Lowest allowed',df['alcohol'].mean()-3*df['alcohol'].std())\n",
    "print('\\n')\n",
    "print('density Highest allowed',df['density'].mean()+3*df['density'].std())\n",
    "print('density Lowest allowed',df['density'].mean()-3*df['density'].std())\n",
    "print('\\n')\n",
    "print('sulphates Highest allowed',df['sulphates'].mean()+3*df['sulphates'].std())\n",
    "print('sulphates Lowest allowed',df['sulphates'].mean()-3*df['sulphates'].std())\n",
    "print('\\n')"
   ]
  },
  {
   "cell_type": "code",
   "execution_count": 24,
   "id": "9547c7c8",
   "metadata": {},
   "outputs": [],
   "source": [
    "df1=df[(df['fixed acidity']<13.54)&(df['fixed acidity']>3.09)]\n",
    "df1=df[(df['volatile acidity']<1.06)&(df['volatile acidity']>0)]\n",
    "df1=df[(df['citric acid']<0.85)&(df['citric acid']>-0.31)]\n",
    "df1=df[(df['chlorides']<0.22)&(df['chlorides']>-0.05)]\n",
    "df1=df[(df['total sulfur dioxide']<145.15)&(df['total sulfur dioxide']>-52.21)]\n",
    "df1=df[(df['alcohol']<13.61)&(df['alcohol']>7.22)]\n",
    "df1=df[(df['density']<1.00)&(df['density']>0.99)]\n",
    "df1=df[(df['sulphates']<1.16)&(df['sulphates']>0.14)]\n",
    "\n"
   ]
  },
  {
   "cell_type": "markdown",
   "id": "4cc80f02",
   "metadata": {},
   "source": [
    "#### Removed Outliers"
   ]
  },
  {
   "cell_type": "code",
   "execution_count": 25,
   "id": "01f2eccf",
   "metadata": {},
   "outputs": [
    {
     "data": {
      "text/html": [
       "<div>\n",
       "<style scoped>\n",
       "    .dataframe tbody tr th:only-of-type {\n",
       "        vertical-align: middle;\n",
       "    }\n",
       "\n",
       "    .dataframe tbody tr th {\n",
       "        vertical-align: top;\n",
       "    }\n",
       "\n",
       "    .dataframe thead th {\n",
       "        text-align: right;\n",
       "    }\n",
       "</style>\n",
       "<table border=\"1\" class=\"dataframe\">\n",
       "  <thead>\n",
       "    <tr style=\"text-align: right;\">\n",
       "      <th></th>\n",
       "      <th>fixed acidity</th>\n",
       "      <th>volatile acidity</th>\n",
       "      <th>citric acid</th>\n",
       "      <th>chlorides</th>\n",
       "      <th>total sulfur dioxide</th>\n",
       "      <th>density</th>\n",
       "      <th>sulphates</th>\n",
       "      <th>alcohol</th>\n",
       "      <th>Class</th>\n",
       "    </tr>\n",
       "  </thead>\n",
       "  <tbody>\n",
       "    <tr>\n",
       "      <th>0</th>\n",
       "      <td>7.4</td>\n",
       "      <td>0.700</td>\n",
       "      <td>0.00</td>\n",
       "      <td>0.076</td>\n",
       "      <td>34.0</td>\n",
       "      <td>0.99780</td>\n",
       "      <td>0.56</td>\n",
       "      <td>9.4</td>\n",
       "      <td>1.0</td>\n",
       "    </tr>\n",
       "    <tr>\n",
       "      <th>1</th>\n",
       "      <td>7.8</td>\n",
       "      <td>0.880</td>\n",
       "      <td>0.00</td>\n",
       "      <td>0.098</td>\n",
       "      <td>67.0</td>\n",
       "      <td>0.99680</td>\n",
       "      <td>0.68</td>\n",
       "      <td>9.8</td>\n",
       "      <td>1.0</td>\n",
       "    </tr>\n",
       "    <tr>\n",
       "      <th>2</th>\n",
       "      <td>7.8</td>\n",
       "      <td>0.760</td>\n",
       "      <td>0.04</td>\n",
       "      <td>0.092</td>\n",
       "      <td>54.0</td>\n",
       "      <td>0.99700</td>\n",
       "      <td>0.65</td>\n",
       "      <td>9.8</td>\n",
       "      <td>1.0</td>\n",
       "    </tr>\n",
       "    <tr>\n",
       "      <th>3</th>\n",
       "      <td>11.2</td>\n",
       "      <td>0.280</td>\n",
       "      <td>0.56</td>\n",
       "      <td>0.075</td>\n",
       "      <td>60.0</td>\n",
       "      <td>0.99800</td>\n",
       "      <td>0.58</td>\n",
       "      <td>9.8</td>\n",
       "      <td>0.0</td>\n",
       "    </tr>\n",
       "    <tr>\n",
       "      <th>4</th>\n",
       "      <td>7.4</td>\n",
       "      <td>0.700</td>\n",
       "      <td>0.00</td>\n",
       "      <td>0.076</td>\n",
       "      <td>34.0</td>\n",
       "      <td>0.99780</td>\n",
       "      <td>0.56</td>\n",
       "      <td>9.4</td>\n",
       "      <td>1.0</td>\n",
       "    </tr>\n",
       "    <tr>\n",
       "      <th>...</th>\n",
       "      <td>...</td>\n",
       "      <td>...</td>\n",
       "      <td>...</td>\n",
       "      <td>...</td>\n",
       "      <td>...</td>\n",
       "      <td>...</td>\n",
       "      <td>...</td>\n",
       "      <td>...</td>\n",
       "      <td>...</td>\n",
       "    </tr>\n",
       "    <tr>\n",
       "      <th>1594</th>\n",
       "      <td>6.2</td>\n",
       "      <td>0.600</td>\n",
       "      <td>0.08</td>\n",
       "      <td>0.090</td>\n",
       "      <td>44.0</td>\n",
       "      <td>0.99490</td>\n",
       "      <td>0.58</td>\n",
       "      <td>10.5</td>\n",
       "      <td>1.0</td>\n",
       "    </tr>\n",
       "    <tr>\n",
       "      <th>1595</th>\n",
       "      <td>5.9</td>\n",
       "      <td>0.550</td>\n",
       "      <td>0.10</td>\n",
       "      <td>0.062</td>\n",
       "      <td>51.0</td>\n",
       "      <td>0.99512</td>\n",
       "      <td>0.76</td>\n",
       "      <td>11.2</td>\n",
       "      <td>0.0</td>\n",
       "    </tr>\n",
       "    <tr>\n",
       "      <th>1596</th>\n",
       "      <td>6.3</td>\n",
       "      <td>0.510</td>\n",
       "      <td>0.13</td>\n",
       "      <td>0.076</td>\n",
       "      <td>40.0</td>\n",
       "      <td>0.99574</td>\n",
       "      <td>0.75</td>\n",
       "      <td>11.0</td>\n",
       "      <td>0.0</td>\n",
       "    </tr>\n",
       "    <tr>\n",
       "      <th>1597</th>\n",
       "      <td>5.9</td>\n",
       "      <td>0.645</td>\n",
       "      <td>0.12</td>\n",
       "      <td>0.075</td>\n",
       "      <td>44.0</td>\n",
       "      <td>0.99547</td>\n",
       "      <td>0.71</td>\n",
       "      <td>10.2</td>\n",
       "      <td>1.0</td>\n",
       "    </tr>\n",
       "    <tr>\n",
       "      <th>1598</th>\n",
       "      <td>6.0</td>\n",
       "      <td>0.310</td>\n",
       "      <td>0.47</td>\n",
       "      <td>0.067</td>\n",
       "      <td>42.0</td>\n",
       "      <td>0.99549</td>\n",
       "      <td>0.66</td>\n",
       "      <td>11.0</td>\n",
       "      <td>0.0</td>\n",
       "    </tr>\n",
       "  </tbody>\n",
       "</table>\n",
       "<p>1571 rows × 9 columns</p>\n",
       "</div>"
      ],
      "text/plain": [
       "      fixed acidity  volatile acidity  citric acid  chlorides  \\\n",
       "0               7.4             0.700         0.00      0.076   \n",
       "1               7.8             0.880         0.00      0.098   \n",
       "2               7.8             0.760         0.04      0.092   \n",
       "3              11.2             0.280         0.56      0.075   \n",
       "4               7.4             0.700         0.00      0.076   \n",
       "...             ...               ...          ...        ...   \n",
       "1594            6.2             0.600         0.08      0.090   \n",
       "1595            5.9             0.550         0.10      0.062   \n",
       "1596            6.3             0.510         0.13      0.076   \n",
       "1597            5.9             0.645         0.12      0.075   \n",
       "1598            6.0             0.310         0.47      0.067   \n",
       "\n",
       "      total sulfur dioxide  density  sulphates  alcohol  Class  \n",
       "0                     34.0  0.99780       0.56      9.4    1.0  \n",
       "1                     67.0  0.99680       0.68      9.8    1.0  \n",
       "2                     54.0  0.99700       0.65      9.8    1.0  \n",
       "3                     60.0  0.99800       0.58      9.8    0.0  \n",
       "4                     34.0  0.99780       0.56      9.4    1.0  \n",
       "...                    ...      ...        ...      ...    ...  \n",
       "1594                  44.0  0.99490       0.58     10.5    1.0  \n",
       "1595                  51.0  0.99512       0.76     11.2    0.0  \n",
       "1596                  40.0  0.99574       0.75     11.0    0.0  \n",
       "1597                  44.0  0.99547       0.71     10.2    1.0  \n",
       "1598                  42.0  0.99549       0.66     11.0    0.0  \n",
       "\n",
       "[1571 rows x 9 columns]"
      ]
     },
     "execution_count": 25,
     "metadata": {},
     "output_type": "execute_result"
    }
   ],
   "source": [
    "df1"
   ]
  },
  {
   "cell_type": "code",
   "execution_count": 26,
   "id": "bed15464",
   "metadata": {},
   "outputs": [
    {
     "data": {
      "text/html": [
       "<div>\n",
       "<style scoped>\n",
       "    .dataframe tbody tr th:only-of-type {\n",
       "        vertical-align: middle;\n",
       "    }\n",
       "\n",
       "    .dataframe tbody tr th {\n",
       "        vertical-align: top;\n",
       "    }\n",
       "\n",
       "    .dataframe thead th {\n",
       "        text-align: right;\n",
       "    }\n",
       "</style>\n",
       "<table border=\"1\" class=\"dataframe\">\n",
       "  <thead>\n",
       "    <tr style=\"text-align: right;\">\n",
       "      <th></th>\n",
       "      <th>index</th>\n",
       "      <th>fixed acidity</th>\n",
       "      <th>volatile acidity</th>\n",
       "      <th>citric acid</th>\n",
       "      <th>chlorides</th>\n",
       "      <th>total sulfur dioxide</th>\n",
       "      <th>density</th>\n",
       "      <th>sulphates</th>\n",
       "      <th>alcohol</th>\n",
       "      <th>Class</th>\n",
       "    </tr>\n",
       "  </thead>\n",
       "  <tbody>\n",
       "    <tr>\n",
       "      <th>0</th>\n",
       "      <td>0</td>\n",
       "      <td>7.4</td>\n",
       "      <td>0.700</td>\n",
       "      <td>0.00</td>\n",
       "      <td>0.076</td>\n",
       "      <td>34.0</td>\n",
       "      <td>0.99780</td>\n",
       "      <td>0.56</td>\n",
       "      <td>9.4</td>\n",
       "      <td>1.0</td>\n",
       "    </tr>\n",
       "    <tr>\n",
       "      <th>1</th>\n",
       "      <td>1</td>\n",
       "      <td>7.8</td>\n",
       "      <td>0.880</td>\n",
       "      <td>0.00</td>\n",
       "      <td>0.098</td>\n",
       "      <td>67.0</td>\n",
       "      <td>0.99680</td>\n",
       "      <td>0.68</td>\n",
       "      <td>9.8</td>\n",
       "      <td>1.0</td>\n",
       "    </tr>\n",
       "    <tr>\n",
       "      <th>2</th>\n",
       "      <td>2</td>\n",
       "      <td>7.8</td>\n",
       "      <td>0.760</td>\n",
       "      <td>0.04</td>\n",
       "      <td>0.092</td>\n",
       "      <td>54.0</td>\n",
       "      <td>0.99700</td>\n",
       "      <td>0.65</td>\n",
       "      <td>9.8</td>\n",
       "      <td>1.0</td>\n",
       "    </tr>\n",
       "    <tr>\n",
       "      <th>3</th>\n",
       "      <td>3</td>\n",
       "      <td>11.2</td>\n",
       "      <td>0.280</td>\n",
       "      <td>0.56</td>\n",
       "      <td>0.075</td>\n",
       "      <td>60.0</td>\n",
       "      <td>0.99800</td>\n",
       "      <td>0.58</td>\n",
       "      <td>9.8</td>\n",
       "      <td>0.0</td>\n",
       "    </tr>\n",
       "    <tr>\n",
       "      <th>4</th>\n",
       "      <td>4</td>\n",
       "      <td>7.4</td>\n",
       "      <td>0.700</td>\n",
       "      <td>0.00</td>\n",
       "      <td>0.076</td>\n",
       "      <td>34.0</td>\n",
       "      <td>0.99780</td>\n",
       "      <td>0.56</td>\n",
       "      <td>9.4</td>\n",
       "      <td>1.0</td>\n",
       "    </tr>\n",
       "    <tr>\n",
       "      <th>...</th>\n",
       "      <td>...</td>\n",
       "      <td>...</td>\n",
       "      <td>...</td>\n",
       "      <td>...</td>\n",
       "      <td>...</td>\n",
       "      <td>...</td>\n",
       "      <td>...</td>\n",
       "      <td>...</td>\n",
       "      <td>...</td>\n",
       "      <td>...</td>\n",
       "    </tr>\n",
       "    <tr>\n",
       "      <th>1566</th>\n",
       "      <td>1594</td>\n",
       "      <td>6.2</td>\n",
       "      <td>0.600</td>\n",
       "      <td>0.08</td>\n",
       "      <td>0.090</td>\n",
       "      <td>44.0</td>\n",
       "      <td>0.99490</td>\n",
       "      <td>0.58</td>\n",
       "      <td>10.5</td>\n",
       "      <td>1.0</td>\n",
       "    </tr>\n",
       "    <tr>\n",
       "      <th>1567</th>\n",
       "      <td>1595</td>\n",
       "      <td>5.9</td>\n",
       "      <td>0.550</td>\n",
       "      <td>0.10</td>\n",
       "      <td>0.062</td>\n",
       "      <td>51.0</td>\n",
       "      <td>0.99512</td>\n",
       "      <td>0.76</td>\n",
       "      <td>11.2</td>\n",
       "      <td>0.0</td>\n",
       "    </tr>\n",
       "    <tr>\n",
       "      <th>1568</th>\n",
       "      <td>1596</td>\n",
       "      <td>6.3</td>\n",
       "      <td>0.510</td>\n",
       "      <td>0.13</td>\n",
       "      <td>0.076</td>\n",
       "      <td>40.0</td>\n",
       "      <td>0.99574</td>\n",
       "      <td>0.75</td>\n",
       "      <td>11.0</td>\n",
       "      <td>0.0</td>\n",
       "    </tr>\n",
       "    <tr>\n",
       "      <th>1569</th>\n",
       "      <td>1597</td>\n",
       "      <td>5.9</td>\n",
       "      <td>0.645</td>\n",
       "      <td>0.12</td>\n",
       "      <td>0.075</td>\n",
       "      <td>44.0</td>\n",
       "      <td>0.99547</td>\n",
       "      <td>0.71</td>\n",
       "      <td>10.2</td>\n",
       "      <td>1.0</td>\n",
       "    </tr>\n",
       "    <tr>\n",
       "      <th>1570</th>\n",
       "      <td>1598</td>\n",
       "      <td>6.0</td>\n",
       "      <td>0.310</td>\n",
       "      <td>0.47</td>\n",
       "      <td>0.067</td>\n",
       "      <td>42.0</td>\n",
       "      <td>0.99549</td>\n",
       "      <td>0.66</td>\n",
       "      <td>11.0</td>\n",
       "      <td>0.0</td>\n",
       "    </tr>\n",
       "  </tbody>\n",
       "</table>\n",
       "<p>1571 rows × 10 columns</p>\n",
       "</div>"
      ],
      "text/plain": [
       "      index  fixed acidity  volatile acidity  citric acid  chlorides  \\\n",
       "0         0            7.4             0.700         0.00      0.076   \n",
       "1         1            7.8             0.880         0.00      0.098   \n",
       "2         2            7.8             0.760         0.04      0.092   \n",
       "3         3           11.2             0.280         0.56      0.075   \n",
       "4         4            7.4             0.700         0.00      0.076   \n",
       "...     ...            ...               ...          ...        ...   \n",
       "1566   1594            6.2             0.600         0.08      0.090   \n",
       "1567   1595            5.9             0.550         0.10      0.062   \n",
       "1568   1596            6.3             0.510         0.13      0.076   \n",
       "1569   1597            5.9             0.645         0.12      0.075   \n",
       "1570   1598            6.0             0.310         0.47      0.067   \n",
       "\n",
       "      total sulfur dioxide  density  sulphates  alcohol  Class  \n",
       "0                     34.0  0.99780       0.56      9.4    1.0  \n",
       "1                     67.0  0.99680       0.68      9.8    1.0  \n",
       "2                     54.0  0.99700       0.65      9.8    1.0  \n",
       "3                     60.0  0.99800       0.58      9.8    0.0  \n",
       "4                     34.0  0.99780       0.56      9.4    1.0  \n",
       "...                    ...      ...        ...      ...    ...  \n",
       "1566                  44.0  0.99490       0.58     10.5    1.0  \n",
       "1567                  51.0  0.99512       0.76     11.2    0.0  \n",
       "1568                  40.0  0.99574       0.75     11.0    0.0  \n",
       "1569                  44.0  0.99547       0.71     10.2    1.0  \n",
       "1570                  42.0  0.99549       0.66     11.0    0.0  \n",
       "\n",
       "[1571 rows x 10 columns]"
      ]
     },
     "execution_count": 26,
     "metadata": {},
     "output_type": "execute_result"
    }
   ],
   "source": [
    "df1.reset_index()"
   ]
  },
  {
   "cell_type": "code",
   "execution_count": 27,
   "id": "b75c86cf",
   "metadata": {},
   "outputs": [
    {
     "data": {
      "image/png": "[encoded data removed]",
      "text/plain": [
       "<Figure size 2160x3024 with 9 Axes>"
      ]
     },
     "metadata": {
      "needs_background": "light"
     },
     "output_type": "display_data"
    }
   ],
   "source": [
    "a = df1.columns.values\n",
    "col = 30\n",
    "row = 14\n",
    "plt.figure(figsize = (col,3*row))\n",
    "for i in range(0, len(a)):\n",
    "    plt.subplot(row,col,i+1)\n",
    "    sns.boxplot(data = df1[a[i]],color='blue',orient='v')\n",
    "    plt.tight_layout()"
   ]
  },
  {
   "cell_type": "code",
   "execution_count": 28,
   "id": "7b70db33",
   "metadata": {},
   "outputs": [],
   "source": [
    "x = df1.drop('Class',axis=1)\n",
    "y = df1['Class']"
   ]
  },
  {
   "cell_type": "code",
   "execution_count": 29,
   "id": "b13fd200",
   "metadata": {},
   "outputs": [],
   "source": [
    "scaler = StandardScaler()\n",
    "X_scale = scaler.fit_transform(x)\n"
   ]
  },
  {
   "cell_type": "markdown",
   "id": "2376b651",
   "metadata": {},
   "source": [
    "# Model Building"
   ]
  },
  {
   "cell_type": "markdown",
   "id": "de2c3a01",
   "metadata": {},
   "source": [
    "# DecisionTreeClassifier"
   ]
  },
  {
   "cell_type": "code",
   "execution_count": 30,
   "id": "264032b8",
   "metadata": {},
   "outputs": [],
   "source": [
    "x_train,x_test,y_train,y_test = train_test_split(X_scale,y,test_size = 0.25,random_state = 77)"
   ]
  },
  {
   "cell_type": "code",
   "execution_count": 31,
   "id": "5b2173cf",
   "metadata": {},
   "outputs": [
    {
     "data": {
      "text/plain": [
       "DecisionTreeClassifier()"
      ]
     },
     "execution_count": 31,
     "metadata": {},
     "output_type": "execute_result"
    }
   ],
   "source": [
    "clf = DecisionTreeClassifier()\n",
    "clf.fit(x_train,y_train)"
   ]
  },
  {
   "cell_type": "code",
   "execution_count": 32,
   "id": "f93127c9",
   "metadata": {},
   "outputs": [
    {
     "data": {
      "text/plain": [
       "1.0"
      ]
     },
     "execution_count": 32,
     "metadata": {},
     "output_type": "execute_result"
    }
   ],
   "source": [
    "clf.score(x_train,y_train)"
   ]
  },
  {
   "cell_type": "code",
   "execution_count": 33,
   "id": "e79d5849",
   "metadata": {},
   "outputs": [],
   "source": [
    "y_pred = clf.predict(x_test)"
   ]
  },
  {
   "cell_type": "code",
   "execution_count": 34,
   "id": "640390a4",
   "metadata": {},
   "outputs": [
    {
     "data": {
      "text/plain": [
       "0.7506361323155216"
      ]
     },
     "execution_count": 34,
     "metadata": {},
     "output_type": "execute_result"
    }
   ],
   "source": [
    "accuracy_score(y_test,y_pred)"
   ]
  },
  {
   "cell_type": "code",
   "execution_count": 35,
   "id": "e7d3aa66",
   "metadata": {},
   "outputs": [],
   "source": [
    "grid_param = {\n",
    "    'criterion': ['gini','entropy'],\n",
    "    'max_depth': range(10,15),\n",
    "    'min_samples_leaf':range(2,10),\n",
    "    'min_samples_split':range(3,10),\n",
    "    'max_leaf_nodes':range(2,4)\n",
    "}"
   ]
  },
  {
   "cell_type": "code",
   "execution_count": 36,
   "id": "b77e35cf",
   "metadata": {},
   "outputs": [],
   "source": [
    "grid_search = GridSearchCV(estimator=clf,\n",
    "                          param_grid=grid_param,\n",
    "                          cv=7,\n",
    "                          n_jobs =-1)"
   ]
  },
  {
   "cell_type": "code",
   "execution_count": 37,
   "id": "df0a1b5d",
   "metadata": {},
   "outputs": [
    {
     "data": {
      "text/plain": [
       "GridSearchCV(cv=7, estimator=DecisionTreeClassifier(), n_jobs=-1,\n",
       "             param_grid={'criterion': ['gini', 'entropy'],\n",
       "                         'max_depth': range(10, 15),\n",
       "                         'max_leaf_nodes': range(2, 4),\n",
       "                         'min_samples_leaf': range(2, 10),\n",
       "                         'min_samples_split': range(3, 10)})"
      ]
     },
     "execution_count": 37,
     "metadata": {},
     "output_type": "execute_result"
    }
   ],
   "source": [
    "grid_search.fit(x_train,y_train)"
   ]
  },
  {
   "cell_type": "code",
   "execution_count": 38,
   "id": "407443a8",
   "metadata": {},
   "outputs": [
    {
     "name": "stdout",
     "output_type": "stream",
     "text": [
      "{'criterion': 'entropy', 'max_depth': 10, 'max_leaf_nodes': 2, 'min_samples_leaf': 2, 'min_samples_split': 3}\n"
     ]
    }
   ],
   "source": [
    "best_parameters = grid_search.best_params_\n",
    "print(best_parameters)"
   ]
  },
  {
   "cell_type": "code",
   "execution_count": 39,
   "id": "239e9e54",
   "metadata": {},
   "outputs": [
    {
     "data": {
      "text/plain": [
       "DecisionTreeClassifier(max_depth=10, min_samples_leaf=2, min_samples_split=3)"
      ]
     },
     "execution_count": 39,
     "metadata": {},
     "output_type": "execute_result"
    }
   ],
   "source": [
    "clf = DecisionTreeClassifier(criterion= 'gini', max_depth= 10, min_samples_leaf= 2, min_samples_split= 3)\n",
    "clf.fit(x_train,y_train)"
   ]
  },
  {
   "cell_type": "code",
   "execution_count": 40,
   "id": "8d739c34",
   "metadata": {},
   "outputs": [
    {
     "data": {
      "text/plain": [
       "0.7557251908396947"
      ]
     },
     "execution_count": 40,
     "metadata": {},
     "output_type": "execute_result"
    }
   ],
   "source": [
    "y_pred = clf.predict(x_test)\n",
    "accuracy_score(y_test,y_pred)"
   ]
  },
  {
   "cell_type": "code",
   "execution_count": 41,
   "id": "b811bc31",
   "metadata": {},
   "outputs": [
    {
     "data": {
      "text/plain": [
       "0.9397283531409168"
      ]
     },
     "execution_count": 41,
     "metadata": {},
     "output_type": "execute_result"
    }
   ],
   "source": [
    "clf.score(x_train,y_train)"
   ]
  },
  {
   "cell_type": "code",
   "execution_count": 42,
   "id": "3f1d81c1",
   "metadata": {},
   "outputs": [
    {
     "name": "stdout",
     "output_type": "stream",
     "text": [
      "accuracy 0.7557251908396947\n",
      "[[170  49]\n",
      " [ 47 127]]\n",
      "              precision    recall  f1-score   support\n",
      "\n",
      "         0.0       0.78      0.78      0.78       219\n",
      "         1.0       0.72      0.73      0.73       174\n",
      "\n",
      "    accuracy                           0.76       393\n",
      "   macro avg       0.75      0.75      0.75       393\n",
      "weighted avg       0.76      0.76      0.76       393\n",
      "\n"
     ]
    }
   ],
   "source": [
    "print('accuracy', accuracy_score(y_test, y_pred))\n",
    "print(confusion_matrix(y_test, y_pred))\n",
    "print(classification_report(y_test, y_pred))"
   ]
  },
  {
   "cell_type": "code",
   "execution_count": 43,
   "id": "2aa3e271",
   "metadata": {},
   "outputs": [
    {
     "name": "stdout",
     "output_type": "stream",
     "text": [
      "Cross Validation Score for DecisionTreeClassifier  0.6524679001112121\n",
      "\n",
      "\n"
     ]
    }
   ],
   "source": [
    "scr_clf = cross_val_score(clf,X_scale,y,cv=5)\n",
    "print('Cross Validation Score for DecisionTreeClassifier ', scr_clf.mean())\n",
    "print('\\n')"
   ]
  },
  {
   "cell_type": "markdown",
   "id": "1f2bd96e",
   "metadata": {},
   "source": [
    "# Random Forest Classifier"
   ]
  },
  {
   "cell_type": "code",
   "execution_count": 44,
   "id": "d69adbe2",
   "metadata": {},
   "outputs": [],
   "source": [
    "from sklearn.ensemble import RandomForestClassifier"
   ]
  },
  {
   "cell_type": "code",
   "execution_count": 45,
   "id": "3b2198a2",
   "metadata": {},
   "outputs": [],
   "source": [
    "x_train,x_test,y_train,y_test = train_test_split(X_scale,y,test_size = 0.25,random_state = 77)"
   ]
  },
  {
   "cell_type": "code",
   "execution_count": 46,
   "id": "9abd7ee2",
   "metadata": {},
   "outputs": [
    {
     "name": "stdout",
     "output_type": "stream",
     "text": [
      "accuracy 0.8142493638676844\n",
      "[[187  32]\n",
      " [ 41 133]]\n",
      "              precision    recall  f1-score   support\n",
      "\n",
      "         0.0       0.82      0.85      0.84       219\n",
      "         1.0       0.81      0.76      0.78       174\n",
      "\n",
      "    accuracy                           0.81       393\n",
      "   macro avg       0.81      0.81      0.81       393\n",
      "weighted avg       0.81      0.81      0.81       393\n",
      "\n"
     ]
    }
   ],
   "source": [
    "rand = RandomForestClassifier()\n",
    "rand.fit(x_train,y_train)\n",
    "y_pred=rand.predict(x_test)\n",
    "print('accuracy', accuracy_score(y_test, y_pred))\n",
    "print(confusion_matrix(y_test, y_pred))\n",
    "print(classification_report(y_test, y_pred))"
   ]
  },
  {
   "cell_type": "code",
   "execution_count": 47,
   "id": "1fb5efe4",
   "metadata": {},
   "outputs": [
    {
     "name": "stdout",
     "output_type": "stream",
     "text": [
      "Cross Validation Score for Random Forest Classifier  0.732676170255788\n",
      "\n",
      "\n"
     ]
    }
   ],
   "source": [
    "scr_rand = cross_val_score(rand,X_scale,y,cv=5)\n",
    "print('Cross Validation Score for Random Forest Classifier ', scr_rand.mean())\n",
    "print('\\n')\n"
   ]
  },
  {
   "cell_type": "markdown",
   "id": "be32d82a",
   "metadata": {},
   "source": [
    "# LogisticsRegression"
   ]
  },
  {
   "cell_type": "code",
   "execution_count": 48,
   "id": "af5fe96f",
   "metadata": {},
   "outputs": [],
   "source": [
    "from sklearn.linear_model import LogisticRegression"
   ]
  },
  {
   "cell_type": "code",
   "execution_count": 49,
   "id": "64d9ba7d",
   "metadata": {},
   "outputs": [
    {
     "name": "stdout",
     "output_type": "stream",
     "text": [
      "accuracy 0.7582697201017812 Random_state 1\n",
      "max_accuracy 0.7582697201017812 max_Random_state 1\n",
      "accuracy 0.7480916030534351 Random_state 2\n",
      "accuracy 0.7430025445292621 Random_state 3\n",
      "accuracy 0.7404580152671756 Random_state 4\n",
      "accuracy 0.7302798982188295 Random_state 5\n",
      "accuracy 0.72264631043257 Random_state 6\n",
      "accuracy 0.7404580152671756 Random_state 7\n",
      "accuracy 0.7353689567430025 Random_state 8\n",
      "accuracy 0.7353689567430025 Random_state 9\n",
      "accuracy 0.7302798982188295 Random_state 10\n",
      "accuracy 0.7430025445292621 Random_state 11\n",
      "accuracy 0.7251908396946565 Random_state 12\n",
      "accuracy 0.7659033078880407 Random_state 13\n",
      "max_accuracy 0.7659033078880407 max_Random_state 13\n",
      "accuracy 0.7455470737913485 Random_state 14\n",
      "accuracy 0.7480916030534351 Random_state 15\n",
      "accuracy 0.7251908396946565 Random_state 16\n",
      "accuracy 0.7455470737913485 Random_state 17\n",
      "accuracy 0.7302798982188295 Random_state 18\n",
      "accuracy 0.7608142493638677 Random_state 19\n",
      "accuracy 0.7302798982188295 Random_state 20\n",
      "accuracy 0.7251908396946565 Random_state 21\n",
      "accuracy 0.7608142493638677 Random_state 22\n",
      "accuracy 0.7430025445292621 Random_state 23\n",
      "accuracy 0.7531806615776081 Random_state 24\n",
      "accuracy 0.7430025445292621 Random_state 25\n",
      "accuracy 0.7582697201017812 Random_state 26\n",
      "accuracy 0.7557251908396947 Random_state 27\n",
      "accuracy 0.7379134860050891 Random_state 28\n",
      "accuracy 0.7480916030534351 Random_state 29\n",
      "accuracy 0.7582697201017812 Random_state 30\n",
      "accuracy 0.7353689567430025 Random_state 31\n",
      "accuracy 0.7480916030534351 Random_state 32\n",
      "accuracy 0.7531806615776081 Random_state 33\n",
      "accuracy 0.7557251908396947 Random_state 34\n",
      "accuracy 0.7201017811704835 Random_state 35\n",
      "accuracy 0.7022900763358778 Random_state 36\n",
      "accuracy 0.7099236641221374 Random_state 37\n",
      "accuracy 0.7455470737913485 Random_state 38\n",
      "accuracy 0.7531806615776081 Random_state 39\n",
      "accuracy 0.7455470737913485 Random_state 40\n",
      "accuracy 0.7506361323155216 Random_state 41\n",
      "accuracy 0.7455470737913485 Random_state 42\n",
      "accuracy 0.7302798982188295 Random_state 43\n",
      "accuracy 0.7379134860050891 Random_state 44\n",
      "accuracy 0.7735368956743003 Random_state 45\n",
      "max_accuracy 0.7735368956743003 max_Random_state 45\n",
      "accuracy 0.6946564885496184 Random_state 46\n",
      "accuracy 0.7455470737913485 Random_state 47\n",
      "accuracy 0.7480916030534351 Random_state 48\n",
      "accuracy 0.7659033078880407 Random_state 49\n",
      "accuracy 0.7582697201017812 Random_state 50\n",
      "accuracy 0.7684478371501272 Random_state 51\n",
      "accuracy 0.72264631043257 Random_state 52\n",
      "accuracy 0.7099236641221374 Random_state 53\n",
      "accuracy 0.7353689567430025 Random_state 54\n",
      "accuracy 0.7379134860050891 Random_state 55\n",
      "accuracy 0.7582697201017812 Random_state 56\n",
      "accuracy 0.7353689567430025 Random_state 57\n",
      "accuracy 0.7684478371501272 Random_state 58\n",
      "accuracy 0.7659033078880407 Random_state 59\n",
      "accuracy 0.72264631043257 Random_state 60\n",
      "accuracy 0.7608142493638677 Random_state 61\n",
      "accuracy 0.7455470737913485 Random_state 62\n",
      "accuracy 0.7531806615776081 Random_state 63\n",
      "accuracy 0.727735368956743 Random_state 64\n",
      "accuracy 0.7022900763358778 Random_state 65\n",
      "accuracy 0.7379134860050891 Random_state 66\n",
      "accuracy 0.7659033078880407 Random_state 67\n",
      "accuracy 0.7430025445292621 Random_state 68\n",
      "accuracy 0.7251908396946565 Random_state 69\n",
      "accuracy 0.7430025445292621 Random_state 70\n",
      "accuracy 0.7302798982188295 Random_state 71\n",
      "accuracy 0.7048346055979644 Random_state 72\n",
      "accuracy 0.7531806615776081 Random_state 73\n",
      "accuracy 0.7455470737913485 Random_state 74\n",
      "accuracy 0.7582697201017812 Random_state 75\n",
      "accuracy 0.732824427480916 Random_state 76\n",
      "accuracy 0.7353689567430025 Random_state 77\n",
      "accuracy 0.7430025445292621 Random_state 78\n",
      "accuracy 0.7480916030534351 Random_state 79\n",
      "accuracy 0.7455470737913485 Random_state 80\n",
      "accuracy 0.7379134860050891 Random_state 81\n",
      "accuracy 0.7531806615776081 Random_state 82\n",
      "accuracy 0.7531806615776081 Random_state 83\n",
      "accuracy 0.7455470737913485 Random_state 84\n",
      "accuracy 0.7531806615776081 Random_state 85\n",
      "accuracy 0.732824427480916 Random_state 86\n",
      "accuracy 0.7175572519083969 Random_state 87\n",
      "accuracy 0.7099236641221374 Random_state 88\n",
      "accuracy 0.7430025445292621 Random_state 89\n",
      "accuracy 0.7048346055979644 Random_state 90\n",
      "accuracy 0.72264631043257 Random_state 91\n",
      "accuracy 0.7175572519083969 Random_state 92\n",
      "accuracy 0.7201017811704835 Random_state 93\n",
      "accuracy 0.72264631043257 Random_state 94\n",
      "accuracy 0.7353689567430025 Random_state 95\n",
      "accuracy 0.732824427480916 Random_state 96\n",
      "accuracy 0.7659033078880407 Random_state 97\n",
      "accuracy 0.7684478371501272 Random_state 98\n",
      "accuracy 0.7175572519083969 Random_state 99\n",
      "accuracy 0.7048346055979644 Random_state 100\n",
      "accuracy 0.7353689567430025 Random_state 101\n",
      "accuracy 0.7455470737913485 Random_state 102\n",
      "accuracy 0.7633587786259542 Random_state 103\n",
      "accuracy 0.7913486005089059 Random_state 104\n",
      "max_accuracy 0.7913486005089059 max_Random_state 104\n",
      "accuracy 0.7582697201017812 Random_state 105\n",
      "accuracy 0.7302798982188295 Random_state 106\n",
      "accuracy 0.72264631043257 Random_state 107\n",
      "accuracy 0.7302798982188295 Random_state 108\n",
      "accuracy 0.7480916030534351 Random_state 109\n",
      "accuracy 0.72264631043257 Random_state 110\n",
      "accuracy 0.7506361323155216 Random_state 111\n",
      "accuracy 0.7379134860050891 Random_state 112\n",
      "accuracy 0.7430025445292621 Random_state 113\n",
      "accuracy 0.7379134860050891 Random_state 114\n",
      "accuracy 0.732824427480916 Random_state 115\n",
      "accuracy 0.727735368956743 Random_state 116\n",
      "accuracy 0.732824427480916 Random_state 117\n",
      "accuracy 0.7022900763358778 Random_state 118\n",
      "accuracy 0.7582697201017812 Random_state 119\n",
      "accuracy 0.7175572519083969 Random_state 120\n",
      "accuracy 0.7480916030534351 Random_state 121\n",
      "accuracy 0.7379134860050891 Random_state 122\n",
      "accuracy 0.7480916030534351 Random_state 123\n",
      "accuracy 0.7531806615776081 Random_state 124\n",
      "accuracy 0.7633587786259542 Random_state 125\n",
      "accuracy 0.7608142493638677 Random_state 126\n",
      "accuracy 0.7302798982188295 Random_state 127\n",
      "accuracy 0.7557251908396947 Random_state 128\n",
      "accuracy 0.732824427480916 Random_state 129\n",
      "accuracy 0.7404580152671756 Random_state 130\n",
      "accuracy 0.7480916030534351 Random_state 131\n",
      "accuracy 0.7709923664122137 Random_state 132\n",
      "accuracy 0.7480916030534351 Random_state 133\n",
      "accuracy 0.7709923664122137 Random_state 134\n",
      "accuracy 0.7379134860050891 Random_state 135\n",
      "accuracy 0.7251908396946565 Random_state 136\n",
      "accuracy 0.7557251908396947 Random_state 137\n",
      "accuracy 0.7302798982188295 Random_state 138\n",
      "accuracy 0.7811704834605598 Random_state 139\n",
      "accuracy 0.7379134860050891 Random_state 140\n",
      "accuracy 0.7353689567430025 Random_state 141\n",
      "accuracy 0.7659033078880407 Random_state 142\n",
      "accuracy 0.7302798982188295 Random_state 143\n",
      "accuracy 0.712468193384224 Random_state 144\n",
      "accuracy 0.7379134860050891 Random_state 145\n",
      "accuracy 0.7557251908396947 Random_state 146\n",
      "accuracy 0.7480916030534351 Random_state 147\n",
      "accuracy 0.7404580152671756 Random_state 148\n",
      "accuracy 0.72264631043257 Random_state 149\n",
      "accuracy 0.7480916030534351 Random_state 150\n",
      "accuracy 0.7251908396946565 Random_state 151\n",
      "accuracy 0.7404580152671756 Random_state 152\n",
      "accuracy 0.7608142493638677 Random_state 153\n",
      "accuracy 0.7404580152671756 Random_state 154\n",
      "accuracy 0.732824427480916 Random_state 155\n",
      "accuracy 0.7735368956743003 Random_state 156\n",
      "accuracy 0.7684478371501272 Random_state 157\n",
      "accuracy 0.7506361323155216 Random_state 158\n",
      "accuracy 0.7430025445292621 Random_state 159\n",
      "accuracy 0.7379134860050891 Random_state 160\n",
      "accuracy 0.732824427480916 Random_state 161\n",
      "accuracy 0.7480916030534351 Random_state 162\n",
      "accuracy 0.7455470737913485 Random_state 163\n",
      "accuracy 0.7251908396946565 Random_state 164\n",
      "accuracy 0.7480916030534351 Random_state 165\n",
      "accuracy 0.7201017811704835 Random_state 166\n",
      "accuracy 0.7251908396946565 Random_state 167\n",
      "accuracy 0.7531806615776081 Random_state 168\n",
      "accuracy 0.7608142493638677 Random_state 169\n",
      "accuracy 0.7251908396946565 Random_state 170\n",
      "accuracy 0.6997455470737913 Random_state 171\n",
      "accuracy 0.72264631043257 Random_state 172\n",
      "accuracy 0.7353689567430025 Random_state 173\n",
      "accuracy 0.7837150127226463 Random_state 174\n",
      "accuracy 0.7608142493638677 Random_state 175\n",
      "accuracy 0.727735368956743 Random_state 176\n",
      "accuracy 0.7302798982188295 Random_state 177\n",
      "accuracy 0.7506361323155216 Random_state 178\n",
      "accuracy 0.7913486005089059 Random_state 179\n",
      "accuracy 0.7582697201017812 Random_state 180\n",
      "accuracy 0.7608142493638677 Random_state 181\n",
      "accuracy 0.7302798982188295 Random_state 182\n",
      "accuracy 0.72264631043257 Random_state 183\n",
      "accuracy 0.732824427480916 Random_state 184\n",
      "accuracy 0.7404580152671756 Random_state 185\n",
      "accuracy 0.7480916030534351 Random_state 186\n",
      "accuracy 0.7786259541984732 Random_state 187\n",
      "accuracy 0.7709923664122137 Random_state 188\n",
      "accuracy 0.7480916030534351 Random_state 189\n",
      "accuracy 0.7175572519083969 Random_state 190\n",
      "accuracy 0.7506361323155216 Random_state 191\n",
      "accuracy 0.72264631043257 Random_state 192\n",
      "accuracy 0.7735368956743003 Random_state 193\n",
      "accuracy 0.7251908396946565 Random_state 194\n",
      "accuracy 0.7353689567430025 Random_state 195\n",
      "accuracy 0.7379134860050891 Random_state 196\n",
      "accuracy 0.7582697201017812 Random_state 197\n",
      "accuracy 0.7353689567430025 Random_state 198\n",
      "accuracy 0.7251908396946565 Random_state 199\n"
     ]
    }
   ],
   "source": [
    "maxAccu =0 \n",
    "maxRS= 0\n",
    "\n",
    "for i in range(1,200):\n",
    "    x_train,x_test,y_train,y_test = train_test_split(X_scale,y,test_size = 0.25,random_state = i)\n",
    "    log = LogisticRegression()\n",
    "    log.fit(x_train,y_train)\n",
    "    y_pred=log.predict(x_test)\n",
    "    acc=accuracy_score(y_test, y_pred)\n",
    "    print('accuracy', acc,'Random_state',i)\n",
    "    \n",
    "    if acc>maxAccu:\n",
    "        maxAccu=acc\n",
    "        maxRS=i\n",
    "        print('max_accuracy', maxAccu,'max_Random_state',i)\n",
    "    "
   ]
  },
  {
   "cell_type": "code",
   "execution_count": 50,
   "id": "3a3bb41b",
   "metadata": {},
   "outputs": [],
   "source": [
    "x_train,x_test,y_train,y_test = train_test_split(X_scale,y,test_size = 0.25,random_state = 104)"
   ]
  },
  {
   "cell_type": "code",
   "execution_count": 51,
   "id": "3560a69b",
   "metadata": {},
   "outputs": [
    {
     "name": "stdout",
     "output_type": "stream",
     "text": [
      "accuracy 0.7913486005089059\n",
      "[[172  39]\n",
      " [ 43 139]]\n",
      "              precision    recall  f1-score   support\n",
      "\n",
      "         0.0       0.80      0.82      0.81       211\n",
      "         1.0       0.78      0.76      0.77       182\n",
      "\n",
      "    accuracy                           0.79       393\n",
      "   macro avg       0.79      0.79      0.79       393\n",
      "weighted avg       0.79      0.79      0.79       393\n",
      "\n"
     ]
    }
   ],
   "source": [
    "log = LogisticRegression()\n",
    "log.fit(x_train,y_train)\n",
    "y_pred=log.predict(x_test)\n",
    "print('accuracy', accuracy_score(y_test, y_pred))\n",
    "print(confusion_matrix(y_test, y_pred))\n",
    "print(classification_report(y_test, y_pred))"
   ]
  },
  {
   "cell_type": "code",
   "execution_count": 52,
   "id": "f3af295b",
   "metadata": {},
   "outputs": [
    {
     "name": "stdout",
     "output_type": "stream",
     "text": [
      "Cross Validation Score for LogisticsRegression  0.7352279850369022\n",
      "\n",
      "\n"
     ]
    }
   ],
   "source": [
    "scr_log = cross_val_score(log,X_scale,y,cv=5)\n",
    "print('Cross Validation Score for LogisticsRegression ', scr_log.mean())\n",
    "print('\\n')\n"
   ]
  },
  {
   "cell_type": "markdown",
   "id": "d979500d",
   "metadata": {},
   "source": [
    "# GradientBoostingClassifier"
   ]
  },
  {
   "cell_type": "code",
   "execution_count": 53,
   "id": "0dd7bc0c",
   "metadata": {},
   "outputs": [],
   "source": [
    "from sklearn.ensemble import GradientBoostingClassifier\n",
    "x_train,x_test,y_train,y_test = train_test_split(X_scale,y,test_size = 0.25,random_state = 25)"
   ]
  },
  {
   "cell_type": "code",
   "execution_count": 54,
   "id": "e28ebeb7",
   "metadata": {},
   "outputs": [],
   "source": [
    "gbdt = GradientBoostingClassifier()\n",
    "gbdt.fit(x_train, y_train)\n",
    "y_pred = gbdt.predict(x_test)\n",
    "\n",
    "\n",
    "clf_report = pd.DataFrame(classification_report(y_test,y_pred, output_dict=True))\n"
   ]
  },
  {
   "cell_type": "code",
   "execution_count": 55,
   "id": "7e36125f",
   "metadata": {},
   "outputs": [
    {
     "data": {
      "text/html": [
       "<div>\n",
       "<style scoped>\n",
       "    .dataframe tbody tr th:only-of-type {\n",
       "        vertical-align: middle;\n",
       "    }\n",
       "\n",
       "    .dataframe tbody tr th {\n",
       "        vertical-align: top;\n",
       "    }\n",
       "\n",
       "    .dataframe thead th {\n",
       "        text-align: right;\n",
       "    }\n",
       "</style>\n",
       "<table border=\"1\" class=\"dataframe\">\n",
       "  <thead>\n",
       "    <tr style=\"text-align: right;\">\n",
       "      <th></th>\n",
       "      <th>precision</th>\n",
       "      <th>recall</th>\n",
       "      <th>f1-score</th>\n",
       "      <th>support</th>\n",
       "    </tr>\n",
       "  </thead>\n",
       "  <tbody>\n",
       "    <tr>\n",
       "      <th>0.0</th>\n",
       "      <td>0.842365</td>\n",
       "      <td>0.784404</td>\n",
       "      <td>0.812352</td>\n",
       "      <td>218.000000</td>\n",
       "    </tr>\n",
       "    <tr>\n",
       "      <th>1.0</th>\n",
       "      <td>0.752632</td>\n",
       "      <td>0.817143</td>\n",
       "      <td>0.783562</td>\n",
       "      <td>175.000000</td>\n",
       "    </tr>\n",
       "    <tr>\n",
       "      <th>accuracy</th>\n",
       "      <td>0.798982</td>\n",
       "      <td>0.798982</td>\n",
       "      <td>0.798982</td>\n",
       "      <td>0.798982</td>\n",
       "    </tr>\n",
       "    <tr>\n",
       "      <th>macro avg</th>\n",
       "      <td>0.797498</td>\n",
       "      <td>0.800773</td>\n",
       "      <td>0.797957</td>\n",
       "      <td>393.000000</td>\n",
       "    </tr>\n",
       "    <tr>\n",
       "      <th>weighted avg</th>\n",
       "      <td>0.802407</td>\n",
       "      <td>0.798982</td>\n",
       "      <td>0.799532</td>\n",
       "      <td>393.000000</td>\n",
       "    </tr>\n",
       "  </tbody>\n",
       "</table>\n",
       "</div>"
      ],
      "text/plain": [
       "              precision    recall  f1-score     support\n",
       "0.0            0.842365  0.784404  0.812352  218.000000\n",
       "1.0            0.752632  0.817143  0.783562  175.000000\n",
       "accuracy       0.798982  0.798982  0.798982    0.798982\n",
       "macro avg      0.797498  0.800773  0.797957  393.000000\n",
       "weighted avg   0.802407  0.798982  0.799532  393.000000"
      ]
     },
     "execution_count": 55,
     "metadata": {},
     "output_type": "execute_result"
    }
   ],
   "source": [
    "clf_report.T"
   ]
  },
  {
   "cell_type": "code",
   "execution_count": 56,
   "id": "f9c60583",
   "metadata": {},
   "outputs": [
    {
     "data": {
      "text/plain": [
       "0.7989821882951654"
      ]
     },
     "execution_count": 56,
     "metadata": {},
     "output_type": "execute_result"
    }
   ],
   "source": [
    "accuracy_score(y_test,y_pred)"
   ]
  },
  {
   "cell_type": "code",
   "execution_count": 57,
   "id": "6f986edc",
   "metadata": {},
   "outputs": [
    {
     "data": {
      "text/plain": [
       "array([[171,  47],\n",
       "       [ 32, 143]], dtype=int64)"
      ]
     },
     "execution_count": 57,
     "metadata": {},
     "output_type": "execute_result"
    }
   ],
   "source": [
    "confusion_matrix(y_test,y_pred)"
   ]
  },
  {
   "cell_type": "code",
   "execution_count": 58,
   "id": "65190f38",
   "metadata": {},
   "outputs": [],
   "source": [
    "params = {\n",
    "          \"learning_rate\":np.arange(0.1,0.7,0.1),\n",
    "          \"max_depth\":range(4,11)        \n",
    "         }"
   ]
  },
  {
   "cell_type": "code",
   "execution_count": 59,
   "id": "4ec4caa9",
   "metadata": {},
   "outputs": [],
   "source": [
    "grid = GridSearchCV(GradientBoostingClassifier(),param_grid=params)\n"
   ]
  },
  {
   "cell_type": "code",
   "execution_count": 60,
   "id": "e1dfc8b7",
   "metadata": {},
   "outputs": [
    {
     "data": {
      "text/plain": [
       "GridSearchCV(estimator=GradientBoostingClassifier(),\n",
       "             param_grid={'learning_rate': array([0.1, 0.2, 0.3, 0.4, 0.5, 0.6]),\n",
       "                         'max_depth': range(4, 11)})"
      ]
     },
     "execution_count": 60,
     "metadata": {},
     "output_type": "execute_result"
    }
   ],
   "source": [
    "grid.fit(x_train, y_train)"
   ]
  },
  {
   "cell_type": "code",
   "execution_count": 61,
   "id": "7d893451",
   "metadata": {},
   "outputs": [],
   "source": [
    "y_pred = grid.predict(x_test)"
   ]
  },
  {
   "cell_type": "code",
   "execution_count": 62,
   "id": "706c89fd",
   "metadata": {},
   "outputs": [],
   "source": [
    "clf_report = pd.DataFrame(classification_report(y_test,y_pred, output_dict=True))"
   ]
  },
  {
   "cell_type": "code",
   "execution_count": 63,
   "id": "744c5db7",
   "metadata": {},
   "outputs": [
    {
     "data": {
      "text/html": [
       "<div>\n",
       "<style scoped>\n",
       "    .dataframe tbody tr th:only-of-type {\n",
       "        vertical-align: middle;\n",
       "    }\n",
       "\n",
       "    .dataframe tbody tr th {\n",
       "        vertical-align: top;\n",
       "    }\n",
       "\n",
       "    .dataframe thead th {\n",
       "        text-align: right;\n",
       "    }\n",
       "</style>\n",
       "<table border=\"1\" class=\"dataframe\">\n",
       "  <thead>\n",
       "    <tr style=\"text-align: right;\">\n",
       "      <th></th>\n",
       "      <th>precision</th>\n",
       "      <th>recall</th>\n",
       "      <th>f1-score</th>\n",
       "      <th>support</th>\n",
       "    </tr>\n",
       "  </thead>\n",
       "  <tbody>\n",
       "    <tr>\n",
       "      <th>0.0</th>\n",
       "      <td>0.840796</td>\n",
       "      <td>0.775229</td>\n",
       "      <td>0.806683</td>\n",
       "      <td>218.000000</td>\n",
       "    </tr>\n",
       "    <tr>\n",
       "      <th>1.0</th>\n",
       "      <td>0.744792</td>\n",
       "      <td>0.817143</td>\n",
       "      <td>0.779292</td>\n",
       "      <td>175.000000</td>\n",
       "    </tr>\n",
       "    <tr>\n",
       "      <th>accuracy</th>\n",
       "      <td>0.793893</td>\n",
       "      <td>0.793893</td>\n",
       "      <td>0.793893</td>\n",
       "      <td>0.793893</td>\n",
       "    </tr>\n",
       "    <tr>\n",
       "      <th>macro avg</th>\n",
       "      <td>0.792794</td>\n",
       "      <td>0.796186</td>\n",
       "      <td>0.792987</td>\n",
       "      <td>393.000000</td>\n",
       "    </tr>\n",
       "    <tr>\n",
       "      <th>weighted avg</th>\n",
       "      <td>0.798046</td>\n",
       "      <td>0.793893</td>\n",
       "      <td>0.794486</td>\n",
       "      <td>393.000000</td>\n",
       "    </tr>\n",
       "  </tbody>\n",
       "</table>\n",
       "</div>"
      ],
      "text/plain": [
       "              precision    recall  f1-score     support\n",
       "0.0            0.840796  0.775229  0.806683  218.000000\n",
       "1.0            0.744792  0.817143  0.779292  175.000000\n",
       "accuracy       0.793893  0.793893  0.793893    0.793893\n",
       "macro avg      0.792794  0.796186  0.792987  393.000000\n",
       "weighted avg   0.798046  0.793893  0.794486  393.000000"
      ]
     },
     "execution_count": 63,
     "metadata": {},
     "output_type": "execute_result"
    }
   ],
   "source": [
    "clf_report.T"
   ]
  },
  {
   "cell_type": "code",
   "execution_count": 64,
   "id": "b88b0950",
   "metadata": {},
   "outputs": [
    {
     "data": {
      "text/plain": [
       "0.7938931297709924"
      ]
     },
     "execution_count": 64,
     "metadata": {},
     "output_type": "execute_result"
    }
   ],
   "source": [
    "accuracy_score(y_test,y_pred)"
   ]
  },
  {
   "cell_type": "code",
   "execution_count": 65,
   "id": "e99decac",
   "metadata": {},
   "outputs": [
    {
     "name": "stdout",
     "output_type": "stream",
     "text": [
      "accuracy 0.7938931297709924\n",
      "[[169  49]\n",
      " [ 32 143]]\n",
      "              precision    recall  f1-score   support\n",
      "\n",
      "         0.0       0.84      0.78      0.81       218\n",
      "         1.0       0.74      0.82      0.78       175\n",
      "\n",
      "    accuracy                           0.79       393\n",
      "   macro avg       0.79      0.80      0.79       393\n",
      "weighted avg       0.80      0.79      0.79       393\n",
      "\n"
     ]
    }
   ],
   "source": [
    "print('accuracy', accuracy_score(y_test, y_pred))\n",
    "print(confusion_matrix(y_test, y_pred))\n",
    "print(classification_report(y_test, y_pred))"
   ]
  },
  {
   "cell_type": "code",
   "execution_count": 66,
   "id": "1a7ea727",
   "metadata": {},
   "outputs": [
    {
     "name": "stdout",
     "output_type": "stream",
     "text": [
      "Cross Validation Score for GradientBoostingClassifier  0.7135941765241128\n",
      "\n",
      "\n"
     ]
    }
   ],
   "source": [
    "scr_gbc = cross_val_score(grid,X_scale,y,cv=5)\n",
    "print('Cross Validation Score for GradientBoostingClassifier ', scr_gbc.mean())\n",
    "print('\\n')\n"
   ]
  },
  {
   "cell_type": "markdown",
   "id": "bf21f258",
   "metadata": {},
   "source": [
    "# Conclusion"
   ]
  },
  {
   "cell_type": "markdown",
   "id": "bddca146",
   "metadata": {},
   "source": [
    "- Cross Validation Score for DecisionTreeClassifier 65.24%\n",
    "- Cross Validation Score for Random Forest Classifier 73.26%\n",
    "- Cross Validation Score for LogisticsRegression 73.52%\n",
    "- Cross Validation Score for GradientBoostingClassifier 71.35%\n"
   ]
  },
  {
   "cell_type": "markdown",
   "id": "4a2563c9",
   "metadata": {},
   "source": [
    "- Accuracy score of DecisionTreeClassifier 76%\n",
    "- Accuracy score of Random Forest Classifier 81%\n",
    "- Accuracy score of LogisticsRegression 79%\n",
    "- Accuracy score of GradientBoostingClassifier 79%"
   ]
  },
  {
   "cell_type": "markdown",
   "id": "6060750c",
   "metadata": {},
   "source": [
    "#### Considering the accuracy score of 81% and Cross Validation Score 73.26% we can choose Random Forest Classifier model"
   ]
  },
  {
   "cell_type": "markdown",
   "id": "c572e1d4",
   "metadata": {},
   "source": [
    "# Hyper Tuning of slected Model"
   ]
  },
  {
   "cell_type": "code",
   "execution_count": 69,
   "id": "626d4462",
   "metadata": {},
   "outputs": [],
   "source": [
    "params = {    \n",
    "          \"max_features\":['auto','sqrt','log2'],\n",
    "          \"max_depth\":range(4,11),\n",
    "          \"criterion\":['gini','entropy']\n",
    "\n",
    "         }"
   ]
  },
  {
   "cell_type": "code",
   "execution_count": 70,
   "id": "3684aced",
   "metadata": {},
   "outputs": [
    {
     "data": {
      "text/plain": [
       "{'criterion': 'entropy', 'max_depth': 10, 'max_features': 'sqrt'}"
      ]
     },
     "execution_count": 70,
     "metadata": {},
     "output_type": "execute_result"
    }
   ],
   "source": [
    "GCV = GridSearchCV(RandomForestClassifier(),params,cv=5,scoring='accuracy')\n",
    "GCV.fit(x_train,y_train)\n",
    "GCV.best_params_"
   ]
  },
  {
   "cell_type": "code",
   "execution_count": 71,
   "id": "fb10266f",
   "metadata": {},
   "outputs": [
    {
     "data": {
      "text/plain": [
       "0.8320610687022901"
      ]
     },
     "execution_count": 71,
     "metadata": {},
     "output_type": "execute_result"
    }
   ],
   "source": [
    "GCV_y_pred = GCV.best_estimator_.predict(x_test)\n",
    "accuracy_score(y_test, GCV_y_pred)"
   ]
  },
  {
   "cell_type": "markdown",
   "id": "38415291",
   "metadata": {},
   "source": [
    "# ROC AUC Curve"
   ]
  },
  {
   "cell_type": "code",
   "execution_count": 72,
   "id": "648fb898",
   "metadata": {},
   "outputs": [
    {
     "data": {
      "image/png": "[encoded data removed]",
      "text/plain": [
       "<Figure size 432x288 with 1 Axes>"
      ]
     },
     "metadata": {
      "needs_background": "light"
     },
     "output_type": "display_data"
    }
   ],
   "source": [
    "from sklearn.metrics import plot_roc_curve\n",
    "plot_roc_curve(GCV.best_estimator_,x_test,y_test)\n",
    "plt.title(\"ROC AUC Curve\")\n",
    "plt.show()"
   ]
  },
  {
   "cell_type": "markdown",
   "id": "2243815f",
   "metadata": {},
   "source": [
    "### Accuracy score of RandomForestClassifier after Tuning the model is 83.20% and AUC score is 90% which is pretty good"
   ]
  },
  {
   "cell_type": "markdown",
   "id": "152af96e",
   "metadata": {},
   "source": [
    "# Saving the model"
   ]
  },
  {
   "cell_type": "code",
   "execution_count": 73,
   "id": "e3a4e440",
   "metadata": {},
   "outputs": [],
   "source": [
    "import pickle\n",
    "file = 'Red_Wine_Quality.pickle'\n",
    "pickle.dump(GCV.best_estimator_, open(file, 'wb'))"
   ]
  },
  {
   "cell_type": "code",
   "execution_count": null,
   "id": "bf1e7fda",
   "metadata": {},
   "outputs": [],
   "source": []
  },
  {
   "cell_type": "code",
   "execution_count": null,
   "id": "595d07e6",
   "metadata": {},
   "outputs": [],
   "source": []
  }
 ],
 "metadata": {
  "kernelspec": {
   "display_name": "Python 3 (ipykernel)",
   "language": "python",
   "name": "python3"
  },
  "language_info": {
   "codemirror_mode": {
    "name": "ipython",
    "version": 3
   },
   "file_extension": ".py",
   "mimetype": "text/x-python",
   "name": "python",
   "nbconvert_exporter": "python",
   "pygments_lexer": "ipython3",
   "version": "3.9.7"
  }
 },
 "nbformat": 4,
 "nbformat_minor": 5
}
